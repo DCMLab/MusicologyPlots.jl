{
 "cells": [
  {
   "cell_type": "code",
   "execution_count": 1,
   "metadata": {},
   "outputs": [
    {
     "data": {
      "text/plain": [
       "\"/home/chfin/dateien/dev/julia/MusicologyPlots/Project.toml\""
      ]
     },
     "execution_count": 1,
     "metadata": {},
     "output_type": "execute_result"
    }
   ],
   "source": [
    "import Pkg; Pkg.activate(\"..\")"
   ]
  },
  {
   "cell_type": "code",
   "execution_count": 2,
   "metadata": {},
   "outputs": [
    {
     "data": {
      "text/html": [
       "    <script class='js-collapse-script'>\n",
       "        var curMatch =\n",
       "            window.location.href\n",
       "            .match(/(.*?)\\/notebooks\\/.*\\.ipynb/);\n",
       "\n",
       "        curMatch = curMatch ||\n",
       "            window.location.href\n",
       "            .match(/(.*?)\\/apps\\/.*\\.ipynb/);\n",
       "\n",
       "        if ( curMatch ) {\n",
       "            $('head').append('<base href=\"' + curMatch[1] + '/\">');\n",
       "        }\n",
       "    </script>\n"
      ],
      "text/plain": [
       "HTML{String}(\"    <script class='js-collapse-script'>\\n        var curMatch =\\n            window.location.href\\n            .match(/(.*?)\\\\/notebooks\\\\/.*\\\\.ipynb/);\\n\\n        curMatch = curMatch ||\\n            window.location.href\\n            .match(/(.*?)\\\\/apps\\\\/.*\\\\.ipynb/);\\n\\n        if ( curMatch ) {\\n            \\$('head').append('<base href=\\\"' + curMatch[1] + '/\\\">');\\n        }\\n    </script>\\n\")"
      ]
     },
     "metadata": {},
     "output_type": "display_data"
    },
    {
     "data": {
      "text/html": [
       "<script class='js-collapse-script' src='/assetserver/34141025d456a0d8192132aa95eab1c49d16f882-assets/webio/dist/bundle.js'></script>"
      ],
      "text/plain": [
       "HTML{String}(\"<script class='js-collapse-script' src='/assetserver/34141025d456a0d8192132aa95eab1c49d16f882-assets/webio/dist/bundle.js'></script>\")"
      ]
     },
     "metadata": {},
     "output_type": "display_data"
    },
    {
     "data": {
      "text/html": [
       "<script class='js-collapse-script' src='/assetserver/34141025d456a0d8192132aa95eab1c49d16f882-assets/providers/ijulia_setup.js'></script>"
      ],
      "text/plain": [
       "HTML{String}(\"<script class='js-collapse-script' src='/assetserver/34141025d456a0d8192132aa95eab1c49d16f882-assets/providers/ijulia_setup.js'></script>\")"
      ]
     },
     "metadata": {},
     "output_type": "display_data"
    },
    {
     "data": {
      "text/html": [
       "  <script class='js-collapse-script'>\n",
       "    $('.js-collapse-script').parent('.output_subarea').css('padding', '0');\n",
       "  </script>\n"
      ],
      "text/plain": [
       "HTML{String}(\"  <script class='js-collapse-script'>\\n    \\$('.js-collapse-script').parent('.output_subarea').css('padding', '0');\\n  </script>\\n\")"
      ]
     },
     "metadata": {},
     "output_type": "display_data"
    }
   ],
   "source": [
    "using WebIO, Interact\n",
    "using DigitalMusicology"
   ]
  },
  {
   "cell_type": "code",
   "execution_count": 3,
   "metadata": {},
   "outputs": [],
   "source": [
    "usekern(\"/home/chfin/Uni/phd/data/csapp/mozart-piano-sonatas\")\n",
    "notes = getpiece(\"sonata15-1\", :notes_wholes);"
   ]
  },
  {
   "cell_type": "code",
   "execution_count": 4,
   "metadata": {},
   "outputs": [],
   "source": [
    "include(\"../src/widgets.jl\");"
   ]
  },
  {
   "cell_type": "code",
   "execution_count": 5,
   "metadata": {
    "scrolled": false
   },
   "outputs": [
    {
     "data": {
      "text/html": [
       "<div class='tex2jax_ignore interactbulma'>\n",
       "<div class='display:none'></div><unsafe-script style='display:none'>\n",
       "WebIO.mount(this.previousSibling,{&quot;props&quot;:{&quot;id&quot;:&quot;pianoroll9659368645579235932&quot;,&quot;style&quot;:{&quot;width&quot;:&quot;90%&quot;,&quot;background&quot;:&quot;white&quot;}},&quot;nodeType&quot;:&quot;DOM&quot;,&quot;type&quot;:&quot;node&quot;,&quot;instanceArgs&quot;:{&quot;namespace&quot;:&quot;html&quot;,&quot;tag&quot;:&quot;div&quot;},&quot;children&quot;:[{&quot;props&quot;:{},&quot;nodeType&quot;:&quot;Scope&quot;,&quot;type&quot;:&quot;node&quot;,&quot;instanceArgs&quot;:{&quot;imports&quot;:{&quot;data&quot;:[{&quot;name&quot;:null,&quot;type&quot;:&quot;js&quot;,&quot;url&quot;:&quot;https://d3js.org/d3.v4.min.js&quot;},{&quot;name&quot;:null,&quot;type&quot;:&quot;js&quot;,&quot;url&quot;:&quot;/assetserver/ecdd410b8ab7973472dca45509ecddaa27fc721b-pianoroll.js&quot;}],&quot;type&quot;:&quot;async_block&quot;},&quot;id&quot;:&quot;scope-4682d333-c251-4c24-ad99-489af0edc44e&quot;,&quot;handlers&quot;:{&quot;jnotes&quot;:[(function (ns){return document.getElementById(&quot;pianoroll9659368645579235932&quot;).updateNotes(ns)})],&quot;_promises&quot;:{&quot;importsLoaded&quot;:[function(d3) {\n",
       "    console.log(&quot;test&quot;);\n",
       "    console.log(d3);\n",
       "    var pr = document.getElementById(&quot;pianoroll9659368645579235932&quot;);\n",
       "    pr.d3 = d3;\n",
       "    //pr.notes = {&quot;id&quot;:&quot;ob_03&quot;,&quot;val&quot;:[{&quot;offset&quot;:1.0,&quot;onset&quot;:0.0,&quot;pitch&quot;:0},{&quot;offset&quot;:2.0,&quot;onset&quot;:1.0,&quot;pitch&quot;:2},{&quot;offset&quot;:3.0,&quot;onset&quot;:2.0,&quot;pitch&quot;:4}],&quot;listeners&quot;:[]}.val;\n",
       "    //pr.highlights = {&quot;id&quot;:&quot;ob_04&quot;,&quot;val&quot;:[],&quot;listeners&quot;:[]}.val;\n",
       "    pianoroll(&quot;pianoroll9659368645579235932&quot;, {&quot;id&quot;:&quot;ob_03&quot;,&quot;val&quot;:[{&quot;offset&quot;:1.0,&quot;onset&quot;:0.0,&quot;pitch&quot;:0},{&quot;offset&quot;:2.0,&quot;onset&quot;:1.0,&quot;pitch&quot;:2},{&quot;offset&quot;:3.0,&quot;onset&quot;:2.0,&quot;pitch&quot;:4}],&quot;listeners&quot;:[]}.val, {&quot;id&quot;:&quot;ob_04&quot;,&quot;val&quot;:[],&quot;listeners&quot;:[]}.val);\n",
       "}]},&quot;jhighlights&quot;:[(function (hls){return document.getElementById(&quot;pianoroll9659368645579235932&quot;).updateHighlights(hls)})]},&quot;systemjs_options&quot;:null,&quot;observables&quot;:{&quot;jnotes&quot;:{&quot;sync&quot;:false,&quot;id&quot;:&quot;ob_03&quot;,&quot;value&quot;:[{&quot;offset&quot;:1.0,&quot;onset&quot;:0.0,&quot;pitch&quot;:0},{&quot;offset&quot;:2.0,&quot;onset&quot;:1.0,&quot;pitch&quot;:2},{&quot;offset&quot;:3.0,&quot;onset&quot;:2.0,&quot;pitch&quot;:4}]},&quot;jhighlights&quot;:{&quot;sync&quot;:true,&quot;id&quot;:&quot;ob_04&quot;,&quot;value&quot;:[]},&quot;onotes&quot;:{&quot;sync&quot;:true,&quot;id&quot;:&quot;ob_01&quot;,&quot;value&quot;:[{&quot;pitch&quot;:{&quot;pitch&quot;:0},&quot;onset&quot;:0.0,&quot;offset&quot;:1.0},{&quot;pitch&quot;:{&quot;pitch&quot;:2},&quot;onset&quot;:1.0,&quot;offset&quot;:2.0},{&quot;pitch&quot;:{&quot;pitch&quot;:4},&quot;onset&quot;:2.0,&quot;offset&quot;:3.0}]},&quot;ohighlights&quot;:{&quot;sync&quot;:true,&quot;id&quot;:&quot;ob_02&quot;,&quot;value&quot;:[]}}},&quot;children&quot;:[{&quot;props&quot;:{},&quot;nodeType&quot;:&quot;DOM&quot;,&quot;type&quot;:&quot;node&quot;,&quot;instanceArgs&quot;:{&quot;namespace&quot;:&quot;html&quot;,&quot;tag&quot;:&quot;span&quot;},&quot;children&quot;:[]}]}]})</unsafe-script>\n",
       "</div>"
      ],
      "text/plain": [
       "Widget{:default,Any}(OrderedDict{Symbol,Any}(:notes=>Observable{Array{TimedNote{MidiPitch,Rational{Int64}},1}}(\"ob_01\", TimedNote{MidiPitch,Rational{Int64}}[Note<0//1-1//1>(0), Note<1//1-2//1>(2), Note<2//1-3//1>(4)], Any[#g#15{##16#17{##4#8,Observable{Any}},Tuple{Observable{Array{TimedNote{MidiPitch,Rational{Int64}},1}}}}(##16#17{##4#8,Observable{Any}}(##4#8(), Observable{Any}(\"ob_03\", Dict{Symbol,Real}[Dict(:offset=>1//1,:onset=>0//1,:pitch=>0), Dict(:offset=>2//1,:onset=>1//1,:pitch=>2), Dict(:offset=>3//1,:onset=>2//1,:pitch=>4)], Any[SyncCallback(Scope(\"scope-4682d333-c251-4c24-ad99-489af0edc44e\", Node{DOM}(DOM(:html, :span), Any[], Dict{Symbol,Any}(), 0), Dict{String,Tuple{Observables.AbstractObservable,Union{Nothing, Bool}}}(\"jnotes\"=>(Observable{Any}(#= circular reference @-6 =#), nothing),\"jhighlights\"=>(Observable{Any}(\"ob_04\", Any[], Any[print, SyncCallback(Scope(#= circular reference @-6 =#), SyncCallback(Scope(#= circular reference @-7 =#), ##40#42{Scope,String}(Scope(#= circular reference @-8 =#), \"jhighlights\")))]), nothing),\"onotes\"=>(Observable{Array{TimedNote{MidiPitch,Rational{Int64}},1}}(#= circular reference @-10 =#), nothing),\"ohighlights\"=>(Observable{Array{Array{T,1} where T,1}}(\"ob_02\", Array{T,1} where T[], Any[#g#15{##16#17{##5#9,Observable{Any}},Tuple{Observable{Array{Array{T,1} where T,1}}}}(##16#17{##5#9,Observable{Any}}(##5#9(), Observable{Any}(\"ob_04\", Any[], Any[print, SyncCallback(Scope(#= circular reference @-10 =#), SyncCallback(Scope(#= circular reference @-11 =#), ##40#42{Scope,String}(Scope(#= circular reference @-12 =#), \"jhighlights\")))])), (Observable{Array{Array{T,1} where T,1}}(#= circular reference @-4 =#),)), print]), nothing)), Set(String[]), nothing, [\"https://d3js.org/d3.v4.min.js\", \"/home/chfin/dateien/dev/julia/MusicologyPlots/src/deps/pianoroll.js\"], Dict{Any,Any}(\"jnotes\"=>Any[JSString(\"(function (ns){return document.getElementById(\\\"pianoroll9659368645579235932\\\").updateNotes(ns)})\")],\"_promises\"=>Dict{Any,Any}(\"importsLoaded\"=>Any[JSString(\"function(d3) {\\n    console.log(\\\"test\\\");\\n    console.log(d3);\\n    var pr = document.getElementById(\\\"pianoroll9659368645579235932\\\");\\n    pr.d3 = d3;\\n    //pr.notes = {\\\"id\\\":\\\"ob_03\\\",\\\"val\\\":[{\\\"offset\\\":1.0,\\\"onset\\\":0.0,\\\"pitch\\\":0},{\\\"offset\\\":2.0,\\\"onset\\\":1.0,\\\"pitch\\\":2},{\\\"offset\\\":3.0,\\\"onset\\\":2.0,\\\"pitch\\\":4}],\\\"listeners\\\":[]}.val;\\n    //pr.highlights = {\\\"id\\\":\\\"ob_04\\\",\\\"val\\\":[],\\\"listeners\\\":[]}.val;\\n    pianoroll(\\\"pianoroll9659368645579235932\\\", {\\\"id\\\":\\\"ob_03\\\",\\\"val\\\":[{\\\"offset\\\":1.0,\\\"onset\\\":0.0,\\\"pitch\\\":0},{\\\"offset\\\":2.0,\\\"onset\\\":1.0,\\\"pitch\\\":2},{\\\"offset\\\":3.0,\\\"onset\\\":2.0,\\\"pitch\\\":4}],\\\"listeners\\\":[]}.val, {\\\"id\\\":\\\"ob_04\\\",\\\"val\\\":[],\\\"listeners\\\":[]}.val);\\n}\")]),\"jhighlights\"=>Any[JSString(\"(function (hls){return document.getElementById(\\\"pianoroll9659368645579235932\\\").updateHighlights(hls)})\")]), ConnectionPool(Channel{Any}(sz_max:9223372036854775807,sz_curr:6), Set(AbstractConnection[]), Channel{AbstractConnection}(sz_max:32,sz_curr:0))), SyncCallback(Scope(\"scope-4682d333-c251-4c24-ad99-489af0edc44e\", Node{DOM}(DOM(:html, :span), Any[], Dict{Symbol,Any}(), 0), Dict{String,Tuple{Observables.AbstractObservable,Union{Nothing, Bool}}}(\"jnotes\"=>(Observable{Any}(#= circular reference @-7 =#), nothing),\"jhighlights\"=>(Observable{Any}(\"ob_04\", Any[], Any[print, SyncCallback(Scope(#= circular reference @-6 =#), SyncCallback(Scope(#= circular reference @-7 =#), ##40#42{Scope,String}(Scope(#= circular reference @-8 =#), \"jhighlights\")))]), nothing),\"onotes\"=>(Observable{Array{TimedNote{MidiPitch,Rational{Int64}},1}}(#= circular reference @-11 =#), nothing),\"ohighlights\"=>(Observable{Array{Array{T,1} where T,1}}(\"ob_02\", Array{T,1} where T[], Any[#g#15{##16#17{##5#9,Observable{Any}},Tuple{Observable{Array{Array{T,1} where T,1}}}}(##16#17{##5#9,Observable{Any}}(##5#9(), Observable{Any}(\"ob_04\", Any[], Any[print, SyncCallback(Scope(#= circular reference @-10 =#), SyncCallback(Scope(#= circular reference @-11 =#), ##40#42{Scope,String}(Scope(#= circular reference @-12 =#), \"jhighlights\")))])), (Observable{Array{Array{T,1} where T,1}}(#= circular reference @-4 =#),)), print]), nothing)), Set(String[]), nothing, [\"https://d3js.org/d3.v4.min.js\", \"/home/chfin/dateien/dev/julia/MusicologyPlots/src/deps/pianoroll.js\"], Dict{Any,Any}(\"jnotes\"=>Any[JSString(\"(function (ns){return document.getElementById(\\\"pianoroll9659368645579235932\\\").updateNotes(ns)})\")],\"_promises\"=>Dict{Any,Any}(\"importsLoaded\"=>Any[JSString(\"function(d3) {\\n    console.log(\\\"test\\\");\\n    console.log(d3);\\n    var pr = document.getElementById(\\\"pianoroll9659368645579235932\\\");\\n    pr.d3 = d3;\\n    //pr.notes = {\\\"id\\\":\\\"ob_03\\\",\\\"val\\\":[{\\\"offset\\\":1.0,\\\"onset\\\":0.0,\\\"pitch\\\":0},{\\\"offset\\\":2.0,\\\"onset\\\":1.0,\\\"pitch\\\":2},{\\\"offset\\\":3.0,\\\"onset\\\":2.0,\\\"pitch\\\":4}],\\\"listeners\\\":[]}.val;\\n    //pr.highlights = {\\\"id\\\":\\\"ob_04\\\",\\\"val\\\":[],\\\"listeners\\\":[]}.val;\\n    pianoroll(\\\"pianoroll9659368645579235932\\\", {\\\"id\\\":\\\"ob_03\\\",\\\"val\\\":[{\\\"offset\\\":1.0,\\\"onset\\\":0.0,\\\"pitch\\\":0},{\\\"offset\\\":2.0,\\\"onset\\\":1.0,\\\"pitch\\\":2},{\\\"offset\\\":3.0,\\\"onset\\\":2.0,\\\"pitch\\\":4}],\\\"listeners\\\":[]}.val, {\\\"id\\\":\\\"ob_04\\\",\\\"val\\\":[],\\\"listeners\\\":[]}.val);\\n}\")]),\"jhighlights\"=>Any[JSString(\"(function (hls){return document.getElementById(\\\"pianoroll9659368645579235932\\\").updateHighlights(hls)})\")]), ConnectionPool(Channel{Any}(sz_max:9223372036854775807,sz_curr:6), Set(AbstractConnection[]), Channel{AbstractConnection}(sz_max:32,sz_curr:0))), ##40#42{Scope,String}(Scope(\"scope-4682d333-c251-4c24-ad99-489af0edc44e\", Node{DOM}(DOM(:html, :span), Any[], Dict{Symbol,Any}(), 0), Dict{String,Tuple{Observables.AbstractObservable,Union{Nothing, Bool}}}(\"jnotes\"=>(Observable{Any}(#= circular reference @-8 =#), nothing),\"jhighlights\"=>(Observable{Any}(\"ob_04\", Any[], Any[print, SyncCallback(Scope(#= circular reference @-6 =#), SyncCallback(Scope(#= circular reference @-7 =#), ##40#42{Scope,String}(Scope(#= circular reference @-8 =#), \"jhighlights\")))]), nothing),\"onotes\"=>(Observable{Array{TimedNote{MidiPitch,Rational{Int64}},1}}(#= circular reference @-12 =#), nothing),\"ohighlights\"=>(Observable{Array{Array{T,1} where T,1}}(\"ob_02\", Array{T,1} where T[], Any[#g#15{##16#17{##5#9,Observable{Any}},Tuple{Observable{Array{Array{T,1} where T,1}}}}(##16#17{##5#9,Observable{Any}}(##5#9(), Observable{Any}(\"ob_04\", Any[], Any[print, SyncCallback(Scope(#= circular reference @-10 =#), SyncCallback(Scope(#= circular reference @-11 =#), ##40#42{Scope,String}(Scope(#= circular reference @-12 =#), \"jhighlights\")))])), (Observable{Array{Array{T,1} where T,1}}(#= circular reference @-4 =#),)), print]), nothing)), Set(String[]), nothing, [\"https://d3js.org/d3.v4.min.js\", \"/home/chfin/dateien/dev/julia/MusicologyPlots/src/deps/pianoroll.js\"], Dict{Any,Any}(\"jnotes\"=>Any[JSString(\"(function (ns){return document.getElementById(\\\"pianoroll9659368645579235932\\\").updateNotes(ns)})\")],\"_promises\"=>Dict{Any,Any}(\"importsLoaded\"=>Any[JSString(\"function(d3) {\\n    console.log(\\\"test\\\");\\n    console.log(d3);\\n    var pr = document.getElementById(\\\"pianoroll9659368645579235932\\\");\\n    pr.d3 = d3;\\n    //pr.notes = {\\\"id\\\":\\\"ob_03\\\",\\\"val\\\":[{\\\"offset\\\":1.0,\\\"onset\\\":0.0,\\\"pitch\\\":0},{\\\"offset\\\":2.0,\\\"onset\\\":1.0,\\\"pitch\\\":2},{\\\"offset\\\":3.0,\\\"onset\\\":2.0,\\\"pitch\\\":4}],\\\"listeners\\\":[]}.val;\\n    //pr.highlights = {\\\"id\\\":\\\"ob_04\\\",\\\"val\\\":[],\\\"listeners\\\":[]}.val;\\n    pianoroll(\\\"pianoroll9659368645579235932\\\", {\\\"id\\\":\\\"ob_03\\\",\\\"val\\\":[{\\\"offset\\\":1.0,\\\"onset\\\":0.0,\\\"pitch\\\":0},{\\\"offset\\\":2.0,\\\"onset\\\":1.0,\\\"pitch\\\":2},{\\\"offset\\\":3.0,\\\"onset\\\":2.0,\\\"pitch\\\":4}],\\\"listeners\\\":[]}.val, {\\\"id\\\":\\\"ob_04\\\",\\\"val\\\":[],\\\"listeners\\\":[]}.val);\\n}\")]),\"jhighlights\"=>Any[JSString(\"(function (hls){return document.getElementById(\\\"pianoroll9659368645579235932\\\").updateHighlights(hls)})\")]), ConnectionPool(Channel{Any}(sz_max:9223372036854775807,sz_curr:6), Set(AbstractConnection[]), Channel{AbstractConnection}(sz_max:32,sz_curr:0))), \"jnotes\")))])), (Observable{Array{TimedNote{MidiPitch,Rational{Int64}},1}}(#= circular reference @-4 =#),))]),:highlights=>Observable{Array{Array{T,1} where T,1}}(\"ob_02\", Array{T,1} where T[], Any[#g#15{##16#17{##5#9,Observable{Any}},Tuple{Observable{Array{Array{T,1} where T,1}}}}(##16#17{##5#9,Observable{Any}}(##5#9(), Observable{Any}(\"ob_04\", Any[], Any[print, SyncCallback(Scope(\"scope-4682d333-c251-4c24-ad99-489af0edc44e\", Node{DOM}(DOM(:html, :span), Any[], Dict{Symbol,Any}(), 0), Dict{String,Tuple{Observables.AbstractObservable,Union{Nothing, Bool}}}(\"jnotes\"=>(Observable{Any}(\"ob_03\", Dict{Symbol,Real}[Dict(:offset=>1//1,:onset=>0//1,:pitch=>0), Dict(:offset=>2//1,:onset=>1//1,:pitch=>2), Dict(:offset=>3//1,:onset=>2//1,:pitch=>4)], Any[SyncCallback(Scope(#= circular reference @-6 =#), SyncCallback(Scope(#= circular reference @-7 =#), ##40#42{Scope,String}(Scope(#= circular reference @-8 =#), \"jnotes\")))]), nothing),\"jhighlights\"=>(Observable{Any}(#= circular reference @-6 =#), nothing),\"onotes\"=>(Observable{Array{TimedNote{MidiPitch,Rational{Int64}},1}}(\"ob_01\", TimedNote{MidiPitch,Rational{Int64}}[Note<0//1-1//1>(0), Note<1//1-2//1>(2), Note<2//1-3//1>(4)], Any[#g#15{##16#17{##4#8,Observable{Any}},Tuple{Observable{Array{TimedNote{MidiPitch,Rational{Int64}},1}}}}(##16#17{##4#8,Observable{Any}}(##4#8(), Observable{Any}(\"ob_03\", Dict{Symbol,Real}[Dict(:offset=>1//1,:onset=>0//1,:pitch=>0), Dict(:offset=>2//1,:onset=>1//1,:pitch=>2), Dict(:offset=>3//1,:onset=>2//1,:pitch=>4)], Any[SyncCallback(Scope(#= circular reference @-10 =#), SyncCallback(Scope(#= circular reference @-11 =#), ##40#42{Scope,String}(Scope(#= circular reference @-12 =#), \"jnotes\")))])), (Observable{Array{TimedNote{MidiPitch,Rational{Int64}},1}}(#= circular reference @-4 =#),))]), nothing),\"ohighlights\"=>(Observable{Array{Array{T,1} where T,1}}(#= circular reference @-10 =#), nothing)), Set(String[]), nothing, [\"https://d3js.org/d3.v4.min.js\", \"/home/chfin/dateien/dev/julia/MusicologyPlots/src/deps/pianoroll.js\"], Dict{Any,Any}(\"jnotes\"=>Any[JSString(\"(function (ns){return document.getElementById(\\\"pianoroll9659368645579235932\\\").updateNotes(ns)})\")],\"_promises\"=>Dict{Any,Any}(\"importsLoaded\"=>Any[JSString(\"function(d3) {\\n    console.log(\\\"test\\\");\\n    console.log(d3);\\n    var pr = document.getElementById(\\\"pianoroll9659368645579235932\\\");\\n    pr.d3 = d3;\\n    //pr.notes = {\\\"id\\\":\\\"ob_03\\\",\\\"val\\\":[{\\\"offset\\\":1.0,\\\"onset\\\":0.0,\\\"pitch\\\":0},{\\\"offset\\\":2.0,\\\"onset\\\":1.0,\\\"pitch\\\":2},{\\\"offset\\\":3.0,\\\"onset\\\":2.0,\\\"pitch\\\":4}],\\\"listeners\\\":[]}.val;\\n    //pr.highlights = {\\\"id\\\":\\\"ob_04\\\",\\\"val\\\":[],\\\"listeners\\\":[]}.val;\\n    pianoroll(\\\"pianoroll9659368645579235932\\\", {\\\"id\\\":\\\"ob_03\\\",\\\"val\\\":[{\\\"offset\\\":1.0,\\\"onset\\\":0.0,\\\"pitch\\\":0},{\\\"offset\\\":2.0,\\\"onset\\\":1.0,\\\"pitch\\\":2},{\\\"offset\\\":3.0,\\\"onset\\\":2.0,\\\"pitch\\\":4}],\\\"listeners\\\":[]}.val, {\\\"id\\\":\\\"ob_04\\\",\\\"val\\\":[],\\\"listeners\\\":[]}.val);\\n}\")]),\"jhighlights\"=>Any[JSString(\"(function (hls){return document.getElementById(\\\"pianoroll9659368645579235932\\\").updateHighlights(hls)})\")]), ConnectionPool(Channel{Any}(sz_max:9223372036854775807,sz_curr:6), Set(AbstractConnection[]), Channel{AbstractConnection}(sz_max:32,sz_curr:0))), SyncCallback(Scope(\"scope-4682d333-c251-4c24-ad99-489af0edc44e\", Node{DOM}(DOM(:html, :span), Any[], Dict{Symbol,Any}(), 0), Dict{String,Tuple{Observables.AbstractObservable,Union{Nothing, Bool}}}(\"jnotes\"=>(Observable{Any}(\"ob_03\", Dict{Symbol,Real}[Dict(:offset=>1//1,:onset=>0//1,:pitch=>0), Dict(:offset=>2//1,:onset=>1//1,:pitch=>2), Dict(:offset=>3//1,:onset=>2//1,:pitch=>4)], Any[SyncCallback(Scope(#= circular reference @-6 =#), SyncCallback(Scope(#= circular reference @-7 =#), ##40#42{Scope,String}(Scope(#= circular reference @-8 =#), \"jnotes\")))]), nothing),\"jhighlights\"=>(Observable{Any}(#= circular reference @-7 =#), nothing),\"onotes\"=>(Observable{Array{TimedNote{MidiPitch,Rational{Int64}},1}}(\"ob_01\", TimedNote{MidiPitch,Rational{Int64}}[Note<0//1-1//1>(0), Note<1//1-2//1>(2), Note<2//1-3//1>(4)], Any[#g#15{##16#17{##4#8,Observable{Any}},Tuple{Observable{Array{TimedNote{MidiPitch,Rational{Int64}},1}}}}(##16#17{##4#8,Observable{Any}}(##4#8(), Observable{Any}(\"ob_03\", Dict{Symbol,Real}[Dict(:offset=>1//1,:onset=>0//1,:pitch=>0), Dict(:offset=>2//1,:onset=>1//1,:pitch=>2), Dict(:offset=>3//1,:onset=>2//1,:pitch=>4)], Any[SyncCallback(Scope(#= circular reference @-10 =#), SyncCallback(Scope(#= circular reference @-11 =#), ##40#42{Scope,String}(Scope(#= circular reference @-12 =#), \"jnotes\")))])), (Observable{Array{TimedNote{MidiPitch,Rational{Int64}},1}}(#= circular reference @-4 =#),))]), nothing),\"ohighlights\"=>(Observable{Array{Array{T,1} where T,1}}(#= circular reference @-11 =#), nothing)), Set(String[]), nothing, [\"https://d3js.org/d3.v4.min.js\", \"/home/chfin/dateien/dev/julia/MusicologyPlots/src/deps/pianoroll.js\"], Dict{Any,Any}(\"jnotes\"=>Any[JSString(\"(function (ns){return document.getElementById(\\\"pianoroll9659368645579235932\\\").updateNotes(ns)})\")],\"_promises\"=>Dict{Any,Any}(\"importsLoaded\"=>Any[JSString(\"function(d3) {\\n    console.log(\\\"test\\\");\\n    console.log(d3);\\n    var pr = document.getElementById(\\\"pianoroll9659368645579235932\\\");\\n    pr.d3 = d3;\\n    //pr.notes = {\\\"id\\\":\\\"ob_03\\\",\\\"val\\\":[{\\\"offset\\\":1.0,\\\"onset\\\":0.0,\\\"pitch\\\":0},{\\\"offset\\\":2.0,\\\"onset\\\":1.0,\\\"pitch\\\":2},{\\\"offset\\\":3.0,\\\"onset\\\":2.0,\\\"pitch\\\":4}],\\\"listeners\\\":[]}.val;\\n    //pr.highlights = {\\\"id\\\":\\\"ob_04\\\",\\\"val\\\":[],\\\"listeners\\\":[]}.val;\\n    pianoroll(\\\"pianoroll9659368645579235932\\\", {\\\"id\\\":\\\"ob_03\\\",\\\"val\\\":[{\\\"offset\\\":1.0,\\\"onset\\\":0.0,\\\"pitch\\\":0},{\\\"offset\\\":2.0,\\\"onset\\\":1.0,\\\"pitch\\\":2},{\\\"offset\\\":3.0,\\\"onset\\\":2.0,\\\"pitch\\\":4}],\\\"listeners\\\":[]}.val, {\\\"id\\\":\\\"ob_04\\\",\\\"val\\\":[],\\\"listeners\\\":[]}.val);\\n}\")]),\"jhighlights\"=>Any[JSString(\"(function (hls){return document.getElementById(\\\"pianoroll9659368645579235932\\\").updateHighlights(hls)})\")]), ConnectionPool(Channel{Any}(sz_max:9223372036854775807,sz_curr:6), Set(AbstractConnection[]), Channel{AbstractConnection}(sz_max:32,sz_curr:0))), ##40#42{Scope,String}(Scope(\"scope-4682d333-c251-4c24-ad99-489af0edc44e\", Node{DOM}(DOM(:html, :span), Any[], Dict{Symbol,Any}(), 0), Dict{String,Tuple{Observables.AbstractObservable,Union{Nothing, Bool}}}(\"jnotes\"=>(Observable{Any}(\"ob_03\", Dict{Symbol,Real}[Dict(:offset=>1//1,:onset=>0//1,:pitch=>0), Dict(:offset=>2//1,:onset=>1//1,:pitch=>2), Dict(:offset=>3//1,:onset=>2//1,:pitch=>4)], Any[SyncCallback(Scope(#= circular reference @-6 =#), SyncCallback(Scope(#= circular reference @-7 =#), ##40#42{Scope,String}(Scope(#= circular reference @-8 =#), \"jnotes\")))]), nothing),\"jhighlights\"=>(Observable{Any}(#= circular reference @-8 =#), nothing),\"onotes\"=>(Observable{Array{TimedNote{MidiPitch,Rational{Int64}},1}}(\"ob_01\", TimedNote{MidiPitch,Rational{Int64}}[Note<0//1-1//1>(0), Note<1//1-2//1>(2), Note<2//1-3//1>(4)], Any[#g#15{##16#17{##4#8,Observable{Any}},Tuple{Observable{Array{TimedNote{MidiPitch,Rational{Int64}},1}}}}(##16#17{##4#8,Observable{Any}}(##4#8(), Observable{Any}(\"ob_03\", Dict{Symbol,Real}[Dict(:offset=>1//1,:onset=>0//1,:pitch=>0), Dict(:offset=>2//1,:onset=>1//1,:pitch=>2), Dict(:offset=>3//1,:onset=>2//1,:pitch=>4)], Any[SyncCallback(Scope(#= circular reference @-10 =#), SyncCallback(Scope(#= circular reference @-11 =#), ##40#42{Scope,String}(Scope(#= circular reference @-12 =#), \"jnotes\")))])), (Observable{Array{TimedNote{MidiPitch,Rational{Int64}},1}}(#= circular reference @-4 =#),))]), nothing),\"ohighlights\"=>(Observable{Array{Array{T,1} where T,1}}(#= circular reference @-12 =#), nothing)), Set(String[]), nothing, [\"https://d3js.org/d3.v4.min.js\", \"/home/chfin/dateien/dev/julia/MusicologyPlots/src/deps/pianoroll.js\"], Dict{Any,Any}(\"jnotes\"=>Any[JSString(\"(function (ns){return document.getElementById(\\\"pianoroll9659368645579235932\\\").updateNotes(ns)})\")],\"_promises\"=>Dict{Any,Any}(\"importsLoaded\"=>Any[JSString(\"function(d3) {\\n    console.log(\\\"test\\\");\\n    console.log(d3);\\n    var pr = document.getElementById(\\\"pianoroll9659368645579235932\\\");\\n    pr.d3 = d3;\\n    //pr.notes = {\\\"id\\\":\\\"ob_03\\\",\\\"val\\\":[{\\\"offset\\\":1.0,\\\"onset\\\":0.0,\\\"pitch\\\":0},{\\\"offset\\\":2.0,\\\"onset\\\":1.0,\\\"pitch\\\":2},{\\\"offset\\\":3.0,\\\"onset\\\":2.0,\\\"pitch\\\":4}],\\\"listeners\\\":[]}.val;\\n    //pr.highlights = {\\\"id\\\":\\\"ob_04\\\",\\\"val\\\":[],\\\"listeners\\\":[]}.val;\\n    pianoroll(\\\"pianoroll9659368645579235932\\\", {\\\"id\\\":\\\"ob_03\\\",\\\"val\\\":[{\\\"offset\\\":1.0,\\\"onset\\\":0.0,\\\"pitch\\\":0},{\\\"offset\\\":2.0,\\\"onset\\\":1.0,\\\"pitch\\\":2},{\\\"offset\\\":3.0,\\\"onset\\\":2.0,\\\"pitch\\\":4}],\\\"listeners\\\":[]}.val, {\\\"id\\\":\\\"ob_04\\\",\\\"val\\\":[],\\\"listeners\\\":[]}.val);\\n}\")]),\"jhighlights\"=>Any[JSString(\"(function (hls){return document.getElementById(\\\"pianoroll9659368645579235932\\\").updateHighlights(hls)})\")]), ConnectionPool(Channel{Any}(sz_max:9223372036854775807,sz_curr:6), Set(AbstractConnection[]), Channel{AbstractConnection}(sz_max:32,sz_curr:0))), \"jhighlights\")))])), (Observable{Array{Array{T,1} where T,1}}(#= circular reference @-4 =#),)), print])), Observable{Any}(\"ob_05\", nothing, Any[]), Scope(\"scope-4682d333-c251-4c24-ad99-489af0edc44e\", Node{WebIO.DOM}(WebIO.DOM(:html, :span), Any[], Dict{Symbol,Any}(), 0), Dict{String,Tuple{Observables.AbstractObservable,Union{Nothing, Bool}}}(\"jnotes\"=>(Observable{Any}(\"ob_03\", Dict{Symbol,Real}[Dict(:offset=>1//1,:onset=>0//1,:pitch=>0), Dict(:offset=>2//1,:onset=>1//1,:pitch=>2), Dict(:offset=>3//1,:onset=>2//1,:pitch=>4)], Any[SyncCallback(Scope(#= circular reference @-6 =#), SyncCallback(Scope(#= circular reference @-7 =#), ##40#42{Scope,String}(Scope(#= circular reference @-8 =#), \"jnotes\")))]), nothing),\"jhighlights\"=>(Observable{Any}(\"ob_04\", Any[], Any[print, SyncCallback(Scope(#= circular reference @-6 =#), SyncCallback(Scope(#= circular reference @-7 =#), ##40#42{Scope,String}(Scope(#= circular reference @-8 =#), \"jhighlights\")))]), nothing),\"onotes\"=>(Observable{Array{TimedNote{MidiPitch,Rational{Int64}},1}}(\"ob_01\", TimedNote{MidiPitch,Rational{Int64}}[Note<0//1-1//1>(0), Note<1//1-2//1>(2), Note<2//1-3//1>(4)], Any[#g#15{##16#17{##4#8,Observable{Any}},Tuple{Observable{Array{TimedNote{MidiPitch,Rational{Int64}},1}}}}(##16#17{##4#8,Observable{Any}}(##4#8(), Observable{Any}(\"ob_03\", Dict{Symbol,Real}[Dict(:offset=>1//1,:onset=>0//1,:pitch=>0), Dict(:offset=>2//1,:onset=>1//1,:pitch=>2), Dict(:offset=>3//1,:onset=>2//1,:pitch=>4)], Any[SyncCallback(Scope(#= circular reference @-10 =#), SyncCallback(Scope(#= circular reference @-11 =#), ##40#42{Scope,String}(Scope(#= circular reference @-12 =#), \"jnotes\")))])), (Observable{Array{TimedNote{MidiPitch,Rational{Int64}},1}}(#= circular reference @-4 =#),))]), nothing),\"ohighlights\"=>(Observable{Array{Array{T,1} where T,1}}(\"ob_02\", Array{T,1} where T[], Any[#g#15{##16#17{##5#9,Observable{Any}},Tuple{Observable{Array{Array{T,1} where T,1}}}}(##16#17{##5#9,Observable{Any}}(##5#9(), Observable{Any}(\"ob_04\", Any[], Any[print, SyncCallback(Scope(#= circular reference @-10 =#), SyncCallback(Scope(#= circular reference @-11 =#), ##40#42{Scope,String}(Scope(#= circular reference @-12 =#), \"jhighlights\")))])), (Observable{Array{Array{T,1} where T,1}}(#= circular reference @-4 =#),)), print]), nothing)), Set(String[]), nothing, [\"https://d3js.org/d3.v4.min.js\", \"/home/chfin/dateien/dev/julia/MusicologyPlots/src/deps/pianoroll.js\"], Dict{Any,Any}(\"jnotes\"=>Any[JSString(\"(function (ns){return document.getElementById(\\\"pianoroll9659368645579235932\\\").updateNotes(ns)})\")],\"_promises\"=>Dict{Any,Any}(\"importsLoaded\"=>Any[JSString(\"function(d3) {\\n    console.log(\\\"test\\\");\\n    console.log(d3);\\n    var pr = document.getElementById(\\\"pianoroll9659368645579235932\\\");\\n    pr.d3 = d3;\\n    //pr.notes = {\\\"id\\\":\\\"ob_03\\\",\\\"val\\\":[{\\\"offset\\\":1.0,\\\"onset\\\":0.0,\\\"pitch\\\":0},{\\\"offset\\\":2.0,\\\"onset\\\":1.0,\\\"pitch\\\":2},{\\\"offset\\\":3.0,\\\"onset\\\":2.0,\\\"pitch\\\":4}],\\\"listeners\\\":[]}.val;\\n    //pr.highlights = {\\\"id\\\":\\\"ob_04\\\",\\\"val\\\":[],\\\"listeners\\\":[]}.val;\\n    pianoroll(\\\"pianoroll9659368645579235932\\\", {\\\"id\\\":\\\"ob_03\\\",\\\"val\\\":[{\\\"offset\\\":1.0,\\\"onset\\\":0.0,\\\"pitch\\\":0},{\\\"offset\\\":2.0,\\\"onset\\\":1.0,\\\"pitch\\\":2},{\\\"offset\\\":3.0,\\\"onset\\\":2.0,\\\"pitch\\\":4}],\\\"listeners\\\":[]}.val, {\\\"id\\\":\\\"ob_04\\\",\\\"val\\\":[],\\\"listeners\\\":[]}.val);\\n}\")]),\"jhighlights\"=>Any[JSString(\"(function (hls){return document.getElementById(\\\"pianoroll9659368645579235932\\\").updateHighlights(hls)})\")]), WebIO.ConnectionPool(Channel{Any}(sz_max:9223372036854775807,sz_curr:6), Set(AbstractConnection[]), Channel{AbstractConnection}(sz_max:32,sz_curr:0))), getfield(Main, Symbol(\"#lay#12\")){String}(\"pianoroll9659368645579235932\"))"
      ]
     },
     "execution_count": 5,
     "metadata": {},
     "output_type": "execute_result"
    }
   ],
   "source": [
    "pr = pianorollwdg(testnotes)"
   ]
  },
  {
   "cell_type": "code",
   "execution_count": 10,
   "metadata": {},
   "outputs": [],
   "source": [
    "pr[:notes][] = notes;"
   ]
  },
  {
   "cell_type": "code",
   "execution_count": 9,
   "metadata": {},
   "outputs": [
    {
     "name": "stdout",
     "output_type": "stream",
     "text": [
      "Array{Dict{Symbol,Real},1}[[Dict(:offset=>1//2,:onset=>0//1,:pitch=>72), Dict(:offset=>1//8,:onset=>0//1,:pitch=>60), Dict(:offset=>1//4,:onset=>1//8,:pitch=>67), Dict(:offset=>3//8,:onset=>1//4,:pitch=>64), Dict(:offset=>1//2,:onset=>3//8,:pitch=>67)]]Array{TimedNote{MidiPitch,Rational{Int64}},1}[[Note<0//1-1//2>(72), Note<0//1-1//8>(60), Note<1//8-1//4>(67), Note<1//4-3//8>(64), Note<3//8-1//2>(67)]]"
     ]
    },
    {
     "data": {
      "text/plain": [
       "1-element Array{Array{TimedNote{MidiPitch,Rational{Int64}},1},1}:\n",
       " [Note<0//1-1//2>(72), Note<0//1-1//8>(60), Note<1//8-1//4>(67), Note<1//4-3//8>(64), Note<3//8-1//2>(67)]"
      ]
     },
     "execution_count": 9,
     "metadata": {},
     "output_type": "execute_result"
    }
   ],
   "source": [
    "pr[:highlights][] = [notes[[1,2,3,4,5]]]"
   ]
  },
  {
   "cell_type": "code",
   "execution_count": 8,
   "metadata": {},
   "outputs": [
    {
     "ename": "MethodError",
     "evalue": "MethodError: no method matching getindex(::Nothing)",
     "output_type": "error",
     "traceback": [
      "MethodError: no method matching getindex(::Nothing)",
      "",
      "Stacktrace:",
      " [1] top-level scope at In[8]:1"
     ]
    }
   ],
   "source": [
    "pr[:jnotes][]"
   ]
  },
  {
   "cell_type": "code",
   "execution_count": null,
   "metadata": {},
   "outputs": [],
   "source": []
  }
 ],
 "metadata": {
  "kernelspec": {
   "display_name": "Julia 1.0.0",
   "language": "julia",
   "name": "julia-1.0"
  },
  "language_info": {
   "file_extension": ".jl",
   "mimetype": "application/julia",
   "name": "julia",
   "version": "1.0.1"
  }
 },
 "nbformat": 4,
 "nbformat_minor": 2
}
