{
 "cells": [
  {
   "cell_type": "code",
   "execution_count": 1,
   "metadata": {},
   "outputs": [
    {
     "data": {
      "text/plain": [
       "\"/home/chfin/dateien/dev/julia/MusicologyPlots/Project.toml\""
      ]
     },
     "execution_count": 1,
     "metadata": {},
     "output_type": "execute_result"
    }
   ],
   "source": [
    "import Pkg; Pkg.activate(\"..\")"
   ]
  },
  {
   "cell_type": "code",
   "execution_count": 2,
   "metadata": {},
   "outputs": [
    {
     "name": "stderr",
     "output_type": "stream",
     "text": [
      "┌ Info: Recompiling stale cache file /home/chfin/.julia/compiled/v1.0/WebIO/v9IED.ji for WebIO [0f1e0344-ec1d-5b48-a673-e5cf874b6c29]\n",
      "└ @ Base loading.jl:1187\n"
     ]
    },
    {
     "data": {
      "text/html": [
       "    <script class='js-collapse-script'>\n",
       "        var curMatch =\n",
       "            window.location.href\n",
       "            .match(/(.*?)\\/notebooks\\/.*\\.ipynb/);\n",
       "\n",
       "        curMatch = curMatch ||\n",
       "            window.location.href\n",
       "            .match(/(.*?)\\/apps\\/.*\\.ipynb/);\n",
       "\n",
       "        if ( curMatch ) {\n",
       "            $('head').append('<base href=\"' + curMatch[1] + '/\">');\n",
       "        }\n",
       "    </script>\n"
      ],
      "text/plain": [
       "HTML{String}(\"    <script class='js-collapse-script'>\\n        var curMatch =\\n            window.location.href\\n            .match(/(.*?)\\\\/notebooks\\\\/.*\\\\.ipynb/);\\n\\n        curMatch = curMatch ||\\n            window.location.href\\n            .match(/(.*?)\\\\/apps\\\\/.*\\\\.ipynb/);\\n\\n        if ( curMatch ) {\\n            \\$('head').append('<base href=\\\"' + curMatch[1] + '/\\\">');\\n        }\\n    </script>\\n\")"
      ]
     },
     "metadata": {},
     "output_type": "display_data"
    },
    {
     "data": {
      "text/html": [
       "<script class='js-collapse-script' src='/assetserver/34141025d456a0d8192132aa95eab1c49d16f882-assets/webio/dist/bundle.js'></script>"
      ],
      "text/plain": [
       "HTML{String}(\"<script class='js-collapse-script' src='/assetserver/34141025d456a0d8192132aa95eab1c49d16f882-assets/webio/dist/bundle.js'></script>\")"
      ]
     },
     "metadata": {},
     "output_type": "display_data"
    },
    {
     "data": {
      "text/html": [
       "<script class='js-collapse-script' src='/assetserver/34141025d456a0d8192132aa95eab1c49d16f882-assets/providers/ijulia_setup.js'></script>"
      ],
      "text/plain": [
       "HTML{String}(\"<script class='js-collapse-script' src='/assetserver/34141025d456a0d8192132aa95eab1c49d16f882-assets/providers/ijulia_setup.js'></script>\")"
      ]
     },
     "metadata": {},
     "output_type": "display_data"
    },
    {
     "data": {
      "text/html": [
       "  <script class='js-collapse-script'>\n",
       "    $('.js-collapse-script').parent('.output_subarea').css('padding', '0');\n",
       "  </script>\n"
      ],
      "text/plain": [
       "HTML{String}(\"  <script class='js-collapse-script'>\\n    \\$('.js-collapse-script').parent('.output_subarea').css('padding', '0');\\n  </script>\\n\")"
      ]
     },
     "metadata": {},
     "output_type": "display_data"
    },
    {
     "name": "stderr",
     "output_type": "stream",
     "text": [
      "┌ Info: Recompiling stale cache file /home/chfin/.julia/compiled/v1.0/Interact/XmYW4.ji for Interact [c601a237-2ae4-5e1e-952c-7a85b0c7eef1]\n",
      "└ @ Base loading.jl:1187\n",
      "┌ Info: Recompiling stale cache file /home/chfin/.julia/compiled/v1.0/DigitalMusicology/ngEmt.ji for DigitalMusicology [2c2a18ac-9fc9-11e8-3acf-35f06862b736]\n",
      "└ @ Base loading.jl:1187\n"
     ]
    }
   ],
   "source": [
    "using WebIO, Interact\n",
    "using DigitalMusicology"
   ]
  },
  {
   "cell_type": "code",
   "execution_count": 3,
   "metadata": {},
   "outputs": [],
   "source": [
    "usekern(\"/home/chfin/Uni/phd/data/csapp/mozart-piano-sonatas\")\n",
    "notes = getpiece(\"sonata15-1\", :notes_wholes);"
   ]
  },
  {
   "cell_type": "code",
   "execution_count": 11,
   "metadata": {},
   "outputs": [],
   "source": [
    "include(\"../src/widgets.jl\");"
   ]
  },
  {
   "cell_type": "code",
   "execution_count": 12,
   "metadata": {
    "scrolled": false
   },
   "outputs": [
    {
     "data": {
      "text/html": [
       "<div class='tex2jax_ignore interactbulma'>\n",
       "<div class='display:none'></div><unsafe-script style='display:none'>\n",
       "WebIO.mount(this.previousSibling,{&quot;props&quot;:{&quot;id&quot;:&quot;pianoroll11997110294036868530&quot;,&quot;style&quot;:{&quot;background&quot;:&quot;white&quot;}},&quot;nodeType&quot;:&quot;DOM&quot;,&quot;type&quot;:&quot;node&quot;,&quot;instanceArgs&quot;:{&quot;namespace&quot;:&quot;html&quot;,&quot;tag&quot;:&quot;div&quot;},&quot;children&quot;:[{&quot;props&quot;:{},&quot;nodeType&quot;:&quot;Scope&quot;,&quot;type&quot;:&quot;node&quot;,&quot;instanceArgs&quot;:{&quot;imports&quot;:{&quot;data&quot;:[{&quot;name&quot;:null,&quot;type&quot;:&quot;js&quot;,&quot;url&quot;:&quot;/assetserver/814a116dcf5655ad3ca0f4747b75804c44aa4ff0-d3.v4.min.js&quot;},{&quot;name&quot;:null,&quot;type&quot;:&quot;js&quot;,&quot;url&quot;:&quot;/assetserver/86bc5ca28f51d055fbba58a1efffab1bacc9cf93-pianoroll.js&quot;}],&quot;type&quot;:&quot;async_block&quot;},&quot;id&quot;:&quot;scope-b93a3732-e4ee-4a45-8134-b5bd5c4de44f&quot;,&quot;handlers&quot;:{&quot;jnotes&quot;:[(function (ns){return document.getElementById(&quot;pianoroll11997110294036868530&quot;).updateNotes(ns)})],&quot;_promises&quot;:{&quot;importsLoaded&quot;:[(function (d3){var pr=document.getElementById(&quot;pianoroll11997110294036868530&quot;); pianoroll(&quot;pianoroll11997110294036868530&quot;,d3,WebIO.getval({&quot;name&quot;:&quot;jnotes&quot;,&quot;scope&quot;:&quot;scope-b93a3732-e4ee-4a45-8134-b5bd5c4de44f&quot;,&quot;id&quot;:&quot;ob_10&quot;,&quot;type&quot;:&quot;observable&quot;}),WebIO.getval({&quot;name&quot;:&quot;jhighlights&quot;,&quot;scope&quot;:&quot;scope-b93a3732-e4ee-4a45-8134-b5bd5c4de44f&quot;,&quot;id&quot;:&quot;ob_11&quot;,&quot;type&quot;:&quot;observable&quot;}),true); return pr.updateSelectedOut=(function (selected){console.log(selected); return WebIO.setval({&quot;name&quot;:&quot;jselected&quot;,&quot;scope&quot;:&quot;scope-b93a3732-e4ee-4a45-8134-b5bd5c4de44f&quot;,&quot;id&quot;:&quot;ob_12&quot;,&quot;type&quot;:&quot;observable&quot;},Array.from(selected))})})]},&quot;jhighlights&quot;:[(function (hls){return document.getElementById(&quot;pianoroll11997110294036868530&quot;).updateHighlights(hls,true)})],&quot;jclear&quot;:[(function (clr){return document.getElementById(&quot;pianoroll11997110294036868530&quot;).clearSel()})]},&quot;systemjs_options&quot;:null,&quot;observables&quot;:{&quot;jnotes&quot;:{&quot;sync&quot;:false,&quot;id&quot;:&quot;ob_10&quot;,&quot;value&quot;:[{&quot;offset&quot;:1.0,&quot;onset&quot;:0.0,&quot;id&quot;:1,&quot;pitch&quot;:0},{&quot;offset&quot;:2.0,&quot;onset&quot;:1.0,&quot;id&quot;:2,&quot;pitch&quot;:2},{&quot;offset&quot;:3.0,&quot;onset&quot;:2.0,&quot;id&quot;:3,&quot;pitch&quot;:4}]},&quot;jhighlights&quot;:{&quot;sync&quot;:false,&quot;id&quot;:&quot;ob_11&quot;,&quot;value&quot;:[]},&quot;onotes&quot;:{&quot;sync&quot;:true,&quot;id&quot;:&quot;ob_08&quot;,&quot;value&quot;:[{&quot;pitch&quot;:{&quot;pitch&quot;:0},&quot;onset&quot;:0.0,&quot;offset&quot;:1.0},{&quot;pitch&quot;:{&quot;pitch&quot;:2},&quot;onset&quot;:1.0,&quot;offset&quot;:2.0},{&quot;pitch&quot;:{&quot;pitch&quot;:4},&quot;onset&quot;:2.0,&quot;offset&quot;:3.0}]},&quot;jselected&quot;:{&quot;sync&quot;:true,&quot;id&quot;:&quot;ob_12&quot;,&quot;value&quot;:[]},&quot;jclear&quot;:{&quot;sync&quot;:false,&quot;id&quot;:&quot;ob_14&quot;,&quot;value&quot;:null},&quot;ohighlights&quot;:{&quot;sync&quot;:true,&quot;id&quot;:&quot;ob_09&quot;,&quot;value&quot;:[]}}},&quot;children&quot;:[{&quot;props&quot;:{},&quot;nodeType&quot;:&quot;DOM&quot;,&quot;type&quot;:&quot;node&quot;,&quot;instanceArgs&quot;:{&quot;namespace&quot;:&quot;html&quot;,&quot;tag&quot;:&quot;span&quot;},&quot;children&quot;:[]}]}]})</unsafe-script>\n",
       "</div>"
      ],
      "text/plain": [
       "Widget{:pianoroll,Any}(OrderedDict{Symbol,Any}(:notes=>Observable{Array{TimedNote{MidiPitch,Rational{Int64}},1}}(\"ob_08\", TimedNote{MidiPitch,Rational{Int64}}[Note<0//1-1//1>(0), Note<1//1-2//1>(2), Note<2//1-3//1>(4)], Any[#g#15{##16#17{##19#24,Observable{Any}},Tuple{Observable{Array{TimedNote{MidiPitch,Rational{Int64}},1}}}}(##16#17{##19#24,Observable{Any}}(##19#24(), Observable{Any}(\"ob_10\", Dict{Symbol,Real}[Dict(:offset=>1//1,:onset=>0//1,:id=>1,:pitch=>0), Dict(:offset=>2//1,:onset=>1//1,:id=>2,:pitch=>2), Dict(:offset=>3//1,:onset=>2//1,:id=>3,:pitch=>4)], Any[SyncCallback(Scope(\"scope-b93a3732-e4ee-4a45-8134-b5bd5c4de44f\", Node{DOM}(DOM(:html, :span), Any[], Dict{Symbol,Any}(), 0), Dict{String,Tuple{Observables.AbstractObservable,Union{Nothing, Bool}}}(\"jnotes\"=>(Observable{Any}(#= circular reference @-6 =#), nothing),\"jhighlights\"=>(Observable{Any}(\"ob_11\", Any[], Any[SyncCallback(Scope(#= circular reference @-6 =#), SyncCallback(Scope(#= circular reference @-7 =#), ##40#42{Scope,String}(Scope(#= circular reference @-8 =#), \"jhighlights\")))]), nothing),\"onotes\"=>(Observable{Array{TimedNote{MidiPitch,Rational{Int64}},1}}(#= circular reference @-10 =#), nothing),\"jselected\"=>(Observable{Array{Any,1}}(\"ob_12\", Any[], Any[#g#15{##16#17{##22#27{Array{TimedNote{MidiPitch,Rational{Int64}},1}},Observable{Any}},Tuple{Observable{Array{Any,1}}}}(##16#17{##22#27{Array{TimedNote{MidiPitch,Rational{Int64}},1}},Observable{Any}}(##22#27{Array{TimedNote{MidiPitch,Rational{Int64}},1}}(TimedNote{MidiPitch,Rational{Int64}}[Note<0//1-1//1>(0), Note<1//1-2//1>(2), Note<2//1-3//1>(4)]), Observable{Any}(\"ob_13\", Any[], Any[])), (Observable{Array{Any,1}}(#= circular reference @-4 =#),))]), nothing),\"jclear\"=>(Observable{Nothing}(\"ob_14\", nothing, Any[SyncCallback(Scope(#= circular reference @-6 =#), SyncCallback(Scope(#= circular reference @-7 =#), ##40#42{Scope,String}(Scope(#= circular reference @-8 =#), \"jclear\")))]), nothing),\"ohighlights\"=>(Observable{Array{Array{T,1} where T,1}}(\"ob_09\", Array{T,1} where T[], Any[#g#15{##16#17{##20#25,Observable{Any}},Tuple{Observable{Array{Array{T,1} where T,1}}}}(##16#17{##20#25,Observable{Any}}(##20#25(), Observable{Any}(\"ob_11\", Any[], Any[SyncCallback(Scope(#= circular reference @-10 =#), SyncCallback(Scope(#= circular reference @-11 =#), ##40#42{Scope,String}(Scope(#= circular reference @-12 =#), \"jhighlights\")))])), (Observable{Array{Array{T,1} where T,1}}(#= circular reference @-4 =#),))]), nothing)), Set(String[]), nothing, [\"/home/chfin/dateien/dev/julia/MusicologyPlots/src/../deps/d3.v4.min.js\", \"/home/chfin/dateien/dev/julia/MusicologyPlots/src/../deps/pianoroll.js\"], Dict{Any,Any}(\"jnotes\"=>Any[JSString(\"(function (ns){return document.getElementById(\\\"pianoroll11997110294036868530\\\").updateNotes(ns)})\")],\"_promises\"=>Dict{Any,Any}(\"importsLoaded\"=>Any[JSString(\"(function (d3){var pr=document.getElementById(\\\"pianoroll11997110294036868530\\\"); pianoroll(\\\"pianoroll11997110294036868530\\\",d3,WebIO.getval({\\\"name\\\":\\\"jnotes\\\",\\\"scope\\\":\\\"scope-b93a3732-e4ee-4a45-8134-b5bd5c4de44f\\\",\\\"id\\\":\\\"ob_10\\\",\\\"type\\\":\\\"observable\\\"}),WebIO.getval({\\\"name\\\":\\\"jhighlights\\\",\\\"scope\\\":\\\"scope-b93a3732-e4ee-4a45-8134-b5bd5c4de44f\\\",\\\"id\\\":\\\"ob_11\\\",\\\"type\\\":\\\"observable\\\"}),true); return pr.updateSelectedOut=(function (selected){console.log(selected); return WebIO.setval({\\\"name\\\":\\\"jselected\\\",\\\"scope\\\":\\\"scope-b93a3732-e4ee-4a45-8134-b5bd5c4de44f\\\",\\\"id\\\":\\\"ob_12\\\",\\\"type\\\":\\\"observable\\\"},Array.from(selected))})})\")]),\"jhighlights\"=>Any[JSString(\"(function (hls){return document.getElementById(\\\"pianoroll11997110294036868530\\\").updateHighlights(hls,true)})\")],\"jclear\"=>Any[JSString(\"(function (clr){return document.getElementById(\\\"pianoroll11997110294036868530\\\").clearSel()})\")]), ConnectionPool(Channel{Any}(sz_max:9223372036854775807,sz_curr:6), Set(AbstractConnection[]), Channel{AbstractConnection}(sz_max:32,sz_curr:0))), SyncCallback(Scope(\"scope-b93a3732-e4ee-4a45-8134-b5bd5c4de44f\", Node{DOM}(DOM(:html, :span), Any[], Dict{Symbol,Any}(), 0), Dict{String,Tuple{Observables.AbstractObservable,Union{Nothing, Bool}}}(\"jnotes\"=>(Observable{Any}(#= circular reference @-7 =#), nothing),\"jhighlights\"=>(Observable{Any}(\"ob_11\", Any[], Any[SyncCallback(Scope(#= circular reference @-6 =#), SyncCallback(Scope(#= circular reference @-7 =#), ##40#42{Scope,String}(Scope(#= circular reference @-8 =#), \"jhighlights\")))]), nothing),\"onotes\"=>(Observable{Array{TimedNote{MidiPitch,Rational{Int64}},1}}(#= circular reference @-11 =#), nothing),\"jselected\"=>(Observable{Array{Any,1}}(\"ob_12\", Any[], Any[#g#15{##16#17{##22#27{Array{TimedNote{MidiPitch,Rational{Int64}},1}},Observable{Any}},Tuple{Observable{Array{Any,1}}}}(##16#17{##22#27{Array{TimedNote{MidiPitch,Rational{Int64}},1}},Observable{Any}}(##22#27{Array{TimedNote{MidiPitch,Rational{Int64}},1}}(TimedNote{MidiPitch,Rational{Int64}}[Note<0//1-1//1>(0), Note<1//1-2//1>(2), Note<2//1-3//1>(4)]), Observable{Any}(\"ob_13\", Any[], Any[])), (Observable{Array{Any,1}}(#= circular reference @-4 =#),))]), nothing),\"jclear\"=>(Observable{Nothing}(\"ob_14\", nothing, Any[SyncCallback(Scope(#= circular reference @-6 =#), SyncCallback(Scope(#= circular reference @-7 =#), ##40#42{Scope,String}(Scope(#= circular reference @-8 =#), \"jclear\")))]), nothing),\"ohighlights\"=>(Observable{Array{Array{T,1} where T,1}}(\"ob_09\", Array{T,1} where T[], Any[#g#15{##16#17{##20#25,Observable{Any}},Tuple{Observable{Array{Array{T,1} where T,1}}}}(##16#17{##20#25,Observable{Any}}(##20#25(), Observable{Any}(\"ob_11\", Any[], Any[SyncCallback(Scope(#= circular reference @-10 =#), SyncCallback(Scope(#= circular reference @-11 =#), ##40#42{Scope,String}(Scope(#= circular reference @-12 =#), \"jhighlights\")))])), (Observable{Array{Array{T,1} where T,1}}(#= circular reference @-4 =#),))]), nothing)), Set(String[]), nothing, [\"/home/chfin/dateien/dev/julia/MusicologyPlots/src/../deps/d3.v4.min.js\", \"/home/chfin/dateien/dev/julia/MusicologyPlots/src/../deps/pianoroll.js\"], Dict{Any,Any}(\"jnotes\"=>Any[JSString(\"(function (ns){return document.getElementById(\\\"pianoroll11997110294036868530\\\").updateNotes(ns)})\")],\"_promises\"=>Dict{Any,Any}(\"importsLoaded\"=>Any[JSString(\"(function (d3){var pr=document.getElementById(\\\"pianoroll11997110294036868530\\\"); pianoroll(\\\"pianoroll11997110294036868530\\\",d3,WebIO.getval({\\\"name\\\":\\\"jnotes\\\",\\\"scope\\\":\\\"scope-b93a3732-e4ee-4a45-8134-b5bd5c4de44f\\\",\\\"id\\\":\\\"ob_10\\\",\\\"type\\\":\\\"observable\\\"}),WebIO.getval({\\\"name\\\":\\\"jhighlights\\\",\\\"scope\\\":\\\"scope-b93a3732-e4ee-4a45-8134-b5bd5c4de44f\\\",\\\"id\\\":\\\"ob_11\\\",\\\"type\\\":\\\"observable\\\"}),true); return pr.updateSelectedOut=(function (selected){console.log(selected); return WebIO.setval({\\\"name\\\":\\\"jselected\\\",\\\"scope\\\":\\\"scope-b93a3732-e4ee-4a45-8134-b5bd5c4de44f\\\",\\\"id\\\":\\\"ob_12\\\",\\\"type\\\":\\\"observable\\\"},Array.from(selected))})})\")]),\"jhighlights\"=>Any[JSString(\"(function (hls){return document.getElementById(\\\"pianoroll11997110294036868530\\\").updateHighlights(hls,true)})\")],\"jclear\"=>Any[JSString(\"(function (clr){return document.getElementById(\\\"pianoroll11997110294036868530\\\").clearSel()})\")]), ConnectionPool(Channel{Any}(sz_max:9223372036854775807,sz_curr:6), Set(AbstractConnection[]), Channel{AbstractConnection}(sz_max:32,sz_curr:0))), ##40#42{Scope,String}(Scope(\"scope-b93a3732-e4ee-4a45-8134-b5bd5c4de44f\", Node{DOM}(DOM(:html, :span), Any[], Dict{Symbol,Any}(), 0), Dict{String,Tuple{Observables.AbstractObservable,Union{Nothing, Bool}}}(\"jnotes\"=>(Observable{Any}(#= circular reference @-8 =#), nothing),\"jhighlights\"=>(Observable{Any}(\"ob_11\", Any[], Any[SyncCallback(Scope(#= circular reference @-6 =#), SyncCallback(Scope(#= circular reference @-7 =#), ##40#42{Scope,String}(Scope(#= circular reference @-8 =#), \"jhighlights\")))]), nothing),\"onotes\"=>(Observable{Array{TimedNote{MidiPitch,Rational{Int64}},1}}(#= circular reference @-12 =#), nothing),\"jselected\"=>(Observable{Array{Any,1}}(\"ob_12\", Any[], Any[#g#15{##16#17{##22#27{Array{TimedNote{MidiPitch,Rational{Int64}},1}},Observable{Any}},Tuple{Observable{Array{Any,1}}}}(##16#17{##22#27{Array{TimedNote{MidiPitch,Rational{Int64}},1}},Observable{Any}}(##22#27{Array{TimedNote{MidiPitch,Rational{Int64}},1}}(TimedNote{MidiPitch,Rational{Int64}}[Note<0//1-1//1>(0), Note<1//1-2//1>(2), Note<2//1-3//1>(4)]), Observable{Any}(\"ob_13\", Any[], Any[])), (Observable{Array{Any,1}}(#= circular reference @-4 =#),))]), nothing),\"jclear\"=>(Observable{Nothing}(\"ob_14\", nothing, Any[SyncCallback(Scope(#= circular reference @-6 =#), SyncCallback(Scope(#= circular reference @-7 =#), ##40#42{Scope,String}(Scope(#= circular reference @-8 =#), \"jclear\")))]), nothing),\"ohighlights\"=>(Observable{Array{Array{T,1} where T,1}}(\"ob_09\", Array{T,1} where T[], Any[#g#15{##16#17{##20#25,Observable{Any}},Tuple{Observable{Array{Array{T,1} where T,1}}}}(##16#17{##20#25,Observable{Any}}(##20#25(), Observable{Any}(\"ob_11\", Any[], Any[SyncCallback(Scope(#= circular reference @-10 =#), SyncCallback(Scope(#= circular reference @-11 =#), ##40#42{Scope,String}(Scope(#= circular reference @-12 =#), \"jhighlights\")))])), (Observable{Array{Array{T,1} where T,1}}(#= circular reference @-4 =#),))]), nothing)), Set(String[]), nothing, [\"/home/chfin/dateien/dev/julia/MusicologyPlots/src/../deps/d3.v4.min.js\", \"/home/chfin/dateien/dev/julia/MusicologyPlots/src/../deps/pianoroll.js\"], Dict{Any,Any}(\"jnotes\"=>Any[JSString(\"(function (ns){return document.getElementById(\\\"pianoroll11997110294036868530\\\").updateNotes(ns)})\")],\"_promises\"=>Dict{Any,Any}(\"importsLoaded\"=>Any[JSString(\"(function (d3){var pr=document.getElementById(\\\"pianoroll11997110294036868530\\\"); pianoroll(\\\"pianoroll11997110294036868530\\\",d3,WebIO.getval({\\\"name\\\":\\\"jnotes\\\",\\\"scope\\\":\\\"scope-b93a3732-e4ee-4a45-8134-b5bd5c4de44f\\\",\\\"id\\\":\\\"ob_10\\\",\\\"type\\\":\\\"observable\\\"}),WebIO.getval({\\\"name\\\":\\\"jhighlights\\\",\\\"scope\\\":\\\"scope-b93a3732-e4ee-4a45-8134-b5bd5c4de44f\\\",\\\"id\\\":\\\"ob_11\\\",\\\"type\\\":\\\"observable\\\"}),true); return pr.updateSelectedOut=(function (selected){console.log(selected); return WebIO.setval({\\\"name\\\":\\\"jselected\\\",\\\"scope\\\":\\\"scope-b93a3732-e4ee-4a45-8134-b5bd5c4de44f\\\",\\\"id\\\":\\\"ob_12\\\",\\\"type\\\":\\\"observable\\\"},Array.from(selected))})})\")]),\"jhighlights\"=>Any[JSString(\"(function (hls){return document.getElementById(\\\"pianoroll11997110294036868530\\\").updateHighlights(hls,true)})\")],\"jclear\"=>Any[JSString(\"(function (clr){return document.getElementById(\\\"pianoroll11997110294036868530\\\").clearSel()})\")]), ConnectionPool(Channel{Any}(sz_max:9223372036854775807,sz_curr:6), Set(AbstractConnection[]), Channel{AbstractConnection}(sz_max:32,sz_curr:0))), \"jnotes\")))])), (Observable{Array{TimedNote{MidiPitch,Rational{Int64}},1}}(#= circular reference @-4 =#),))]),:highlights=>Observable{Array{Array{T,1} where T,1}}(\"ob_09\", Array{T,1} where T[], Any[#g#15{##16#17{##20#25,Observable{Any}},Tuple{Observable{Array{Array{T,1} where T,1}}}}(##16#17{##20#25,Observable{Any}}(##20#25(), Observable{Any}(\"ob_11\", Any[], Any[SyncCallback(Scope(\"scope-b93a3732-e4ee-4a45-8134-b5bd5c4de44f\", Node{DOM}(DOM(:html, :span), Any[], Dict{Symbol,Any}(), 0), Dict{String,Tuple{Observables.AbstractObservable,Union{Nothing, Bool}}}(\"jnotes\"=>(Observable{Any}(\"ob_10\", Dict{Symbol,Real}[Dict(:offset=>1//1,:onset=>0//1,:id=>1,:pitch=>0), Dict(:offset=>2//1,:onset=>1//1,:id=>2,:pitch=>2), Dict(:offset=>3//1,:onset=>2//1,:id=>3,:pitch=>4)], Any[SyncCallback(Scope(#= circular reference @-6 =#), SyncCallback(Scope(#= circular reference @-7 =#), ##40#42{Scope,String}(Scope(#= circular reference @-8 =#), \"jnotes\")))]), nothing),\"jhighlights\"=>(Observable{Any}(#= circular reference @-6 =#), nothing),\"onotes\"=>(Observable{Array{TimedNote{MidiPitch,Rational{Int64}},1}}(\"ob_08\", TimedNote{MidiPitch,Rational{Int64}}[Note<0//1-1//1>(0), Note<1//1-2//1>(2), Note<2//1-3//1>(4)], Any[#g#15{##16#17{##19#24,Observable{Any}},Tuple{Observable{Array{TimedNote{MidiPitch,Rational{Int64}},1}}}}(##16#17{##19#24,Observable{Any}}(##19#24(), Observable{Any}(\"ob_10\", Dict{Symbol,Real}[Dict(:offset=>1//1,:onset=>0//1,:id=>1,:pitch=>0), Dict(:offset=>2//1,:onset=>1//1,:id=>2,:pitch=>2), Dict(:offset=>3//1,:onset=>2//1,:id=>3,:pitch=>4)], Any[SyncCallback(Scope(#= circular reference @-10 =#), SyncCallback(Scope(#= circular reference @-11 =#), ##40#42{Scope,String}(Scope(#= circular reference @-12 =#), \"jnotes\")))])), (Observable{Array{TimedNote{MidiPitch,Rational{Int64}},1}}(#= circular reference @-4 =#),))]), nothing),\"jselected\"=>(Observable{Array{Any,1}}(\"ob_12\", Any[], Any[#g#15{##16#17{##22#27{Array{TimedNote{MidiPitch,Rational{Int64}},1}},Observable{Any}},Tuple{Observable{Array{Any,1}}}}(##16#17{##22#27{Array{TimedNote{MidiPitch,Rational{Int64}},1}},Observable{Any}}(##22#27{Array{TimedNote{MidiPitch,Rational{Int64}},1}}(TimedNote{MidiPitch,Rational{Int64}}[Note<0//1-1//1>(0), Note<1//1-2//1>(2), Note<2//1-3//1>(4)]), Observable{Any}(\"ob_13\", Any[], Any[])), (Observable{Array{Any,1}}(#= circular reference @-4 =#),))]), nothing),\"jclear\"=>(Observable{Nothing}(\"ob_14\", nothing, Any[SyncCallback(Scope(#= circular reference @-6 =#), SyncCallback(Scope(#= circular reference @-7 =#), ##40#42{Scope,String}(Scope(#= circular reference @-8 =#), \"jclear\")))]), nothing),\"ohighlights\"=>(Observable{Array{Array{T,1} where T,1}}(#= circular reference @-10 =#), nothing)), Set(String[]), nothing, [\"/home/chfin/dateien/dev/julia/MusicologyPlots/src/../deps/d3.v4.min.js\", \"/home/chfin/dateien/dev/julia/MusicologyPlots/src/../deps/pianoroll.js\"], Dict{Any,Any}(\"jnotes\"=>Any[JSString(\"(function (ns){return document.getElementById(\\\"pianoroll11997110294036868530\\\").updateNotes(ns)})\")],\"_promises\"=>Dict{Any,Any}(\"importsLoaded\"=>Any[JSString(\"(function (d3){var pr=document.getElementById(\\\"pianoroll11997110294036868530\\\"); pianoroll(\\\"pianoroll11997110294036868530\\\",d3,WebIO.getval({\\\"name\\\":\\\"jnotes\\\",\\\"scope\\\":\\\"scope-b93a3732-e4ee-4a45-8134-b5bd5c4de44f\\\",\\\"id\\\":\\\"ob_10\\\",\\\"type\\\":\\\"observable\\\"}),WebIO.getval({\\\"name\\\":\\\"jhighlights\\\",\\\"scope\\\":\\\"scope-b93a3732-e4ee-4a45-8134-b5bd5c4de44f\\\",\\\"id\\\":\\\"ob_11\\\",\\\"type\\\":\\\"observable\\\"}),true); return pr.updateSelectedOut=(function (selected){console.log(selected); return WebIO.setval({\\\"name\\\":\\\"jselected\\\",\\\"scope\\\":\\\"scope-b93a3732-e4ee-4a45-8134-b5bd5c4de44f\\\",\\\"id\\\":\\\"ob_12\\\",\\\"type\\\":\\\"observable\\\"},Array.from(selected))})})\")]),\"jhighlights\"=>Any[JSString(\"(function (hls){return document.getElementById(\\\"pianoroll11997110294036868530\\\").updateHighlights(hls,true)})\")],\"jclear\"=>Any[JSString(\"(function (clr){return document.getElementById(\\\"pianoroll11997110294036868530\\\").clearSel()})\")]), ConnectionPool(Channel{Any}(sz_max:9223372036854775807,sz_curr:6), Set(AbstractConnection[]), Channel{AbstractConnection}(sz_max:32,sz_curr:0))), SyncCallback(Scope(\"scope-b93a3732-e4ee-4a45-8134-b5bd5c4de44f\", Node{DOM}(DOM(:html, :span), Any[], Dict{Symbol,Any}(), 0), Dict{String,Tuple{Observables.AbstractObservable,Union{Nothing, Bool}}}(\"jnotes\"=>(Observable{Any}(\"ob_10\", Dict{Symbol,Real}[Dict(:offset=>1//1,:onset=>0//1,:id=>1,:pitch=>0), Dict(:offset=>2//1,:onset=>1//1,:id=>2,:pitch=>2), Dict(:offset=>3//1,:onset=>2//1,:id=>3,:pitch=>4)], Any[SyncCallback(Scope(#= circular reference @-6 =#), SyncCallback(Scope(#= circular reference @-7 =#), ##40#42{Scope,String}(Scope(#= circular reference @-8 =#), \"jnotes\")))]), nothing),\"jhighlights\"=>(Observable{Any}(#= circular reference @-7 =#), nothing),\"onotes\"=>(Observable{Array{TimedNote{MidiPitch,Rational{Int64}},1}}(\"ob_08\", TimedNote{MidiPitch,Rational{Int64}}[Note<0//1-1//1>(0), Note<1//1-2//1>(2), Note<2//1-3//1>(4)], Any[#g#15{##16#17{##19#24,Observable{Any}},Tuple{Observable{Array{TimedNote{MidiPitch,Rational{Int64}},1}}}}(##16#17{##19#24,Observable{Any}}(##19#24(), Observable{Any}(\"ob_10\", Dict{Symbol,Real}[Dict(:offset=>1//1,:onset=>0//1,:id=>1,:pitch=>0), Dict(:offset=>2//1,:onset=>1//1,:id=>2,:pitch=>2), Dict(:offset=>3//1,:onset=>2//1,:id=>3,:pitch=>4)], Any[SyncCallback(Scope(#= circular reference @-10 =#), SyncCallback(Scope(#= circular reference @-11 =#), ##40#42{Scope,String}(Scope(#= circular reference @-12 =#), \"jnotes\")))])), (Observable{Array{TimedNote{MidiPitch,Rational{Int64}},1}}(#= circular reference @-4 =#),))]), nothing),\"jselected\"=>(Observable{Array{Any,1}}(\"ob_12\", Any[], Any[#g#15{##16#17{##22#27{Array{TimedNote{MidiPitch,Rational{Int64}},1}},Observable{Any}},Tuple{Observable{Array{Any,1}}}}(##16#17{##22#27{Array{TimedNote{MidiPitch,Rational{Int64}},1}},Observable{Any}}(##22#27{Array{TimedNote{MidiPitch,Rational{Int64}},1}}(TimedNote{MidiPitch,Rational{Int64}}[Note<0//1-1//1>(0), Note<1//1-2//1>(2), Note<2//1-3//1>(4)]), Observable{Any}(\"ob_13\", Any[], Any[])), (Observable{Array{Any,1}}(#= circular reference @-4 =#),))]), nothing),\"jclear\"=>(Observable{Nothing}(\"ob_14\", nothing, Any[SyncCallback(Scope(#= circular reference @-6 =#), SyncCallback(Scope(#= circular reference @-7 =#), ##40#42{Scope,String}(Scope(#= circular reference @-8 =#), \"jclear\")))]), nothing),\"ohighlights\"=>(Observable{Array{Array{T,1} where T,1}}(#= circular reference @-11 =#), nothing)), Set(String[]), nothing, [\"/home/chfin/dateien/dev/julia/MusicologyPlots/src/../deps/d3.v4.min.js\", \"/home/chfin/dateien/dev/julia/MusicologyPlots/src/../deps/pianoroll.js\"], Dict{Any,Any}(\"jnotes\"=>Any[JSString(\"(function (ns){return document.getElementById(\\\"pianoroll11997110294036868530\\\").updateNotes(ns)})\")],\"_promises\"=>Dict{Any,Any}(\"importsLoaded\"=>Any[JSString(\"(function (d3){var pr=document.getElementById(\\\"pianoroll11997110294036868530\\\"); pianoroll(\\\"pianoroll11997110294036868530\\\",d3,WebIO.getval({\\\"name\\\":\\\"jnotes\\\",\\\"scope\\\":\\\"scope-b93a3732-e4ee-4a45-8134-b5bd5c4de44f\\\",\\\"id\\\":\\\"ob_10\\\",\\\"type\\\":\\\"observable\\\"}),WebIO.getval({\\\"name\\\":\\\"jhighlights\\\",\\\"scope\\\":\\\"scope-b93a3732-e4ee-4a45-8134-b5bd5c4de44f\\\",\\\"id\\\":\\\"ob_11\\\",\\\"type\\\":\\\"observable\\\"}),true); return pr.updateSelectedOut=(function (selected){console.log(selected); return WebIO.setval({\\\"name\\\":\\\"jselected\\\",\\\"scope\\\":\\\"scope-b93a3732-e4ee-4a45-8134-b5bd5c4de44f\\\",\\\"id\\\":\\\"ob_12\\\",\\\"type\\\":\\\"observable\\\"},Array.from(selected))})})\")]),\"jhighlights\"=>Any[JSString(\"(function (hls){return document.getElementById(\\\"pianoroll11997110294036868530\\\").updateHighlights(hls,true)})\")],\"jclear\"=>Any[JSString(\"(function (clr){return document.getElementById(\\\"pianoroll11997110294036868530\\\").clearSel()})\")]), ConnectionPool(Channel{Any}(sz_max:9223372036854775807,sz_curr:6), Set(AbstractConnection[]), Channel{AbstractConnection}(sz_max:32,sz_curr:0))), ##40#42{Scope,String}(Scope(\"scope-b93a3732-e4ee-4a45-8134-b5bd5c4de44f\", Node{DOM}(DOM(:html, :span), Any[], Dict{Symbol,Any}(), 0), Dict{String,Tuple{Observables.AbstractObservable,Union{Nothing, Bool}}}(\"jnotes\"=>(Observable{Any}(\"ob_10\", Dict{Symbol,Real}[Dict(:offset=>1//1,:onset=>0//1,:id=>1,:pitch=>0), Dict(:offset=>2//1,:onset=>1//1,:id=>2,:pitch=>2), Dict(:offset=>3//1,:onset=>2//1,:id=>3,:pitch=>4)], Any[SyncCallback(Scope(#= circular reference @-6 =#), SyncCallback(Scope(#= circular reference @-7 =#), ##40#42{Scope,String}(Scope(#= circular reference @-8 =#), \"jnotes\")))]), nothing),\"jhighlights\"=>(Observable{Any}(#= circular reference @-8 =#), nothing),\"onotes\"=>(Observable{Array{TimedNote{MidiPitch,Rational{Int64}},1}}(\"ob_08\", TimedNote{MidiPitch,Rational{Int64}}[Note<0//1-1//1>(0), Note<1//1-2//1>(2), Note<2//1-3//1>(4)], Any[#g#15{##16#17{##19#24,Observable{Any}},Tuple{Observable{Array{TimedNote{MidiPitch,Rational{Int64}},1}}}}(##16#17{##19#24,Observable{Any}}(##19#24(), Observable{Any}(\"ob_10\", Dict{Symbol,Real}[Dict(:offset=>1//1,:onset=>0//1,:id=>1,:pitch=>0), Dict(:offset=>2//1,:onset=>1//1,:id=>2,:pitch=>2), Dict(:offset=>3//1,:onset=>2//1,:id=>3,:pitch=>4)], Any[SyncCallback(Scope(#= circular reference @-10 =#), SyncCallback(Scope(#= circular reference @-11 =#), ##40#42{Scope,String}(Scope(#= circular reference @-12 =#), \"jnotes\")))])), (Observable{Array{TimedNote{MidiPitch,Rational{Int64}},1}}(#= circular reference @-4 =#),))]), nothing),\"jselected\"=>(Observable{Array{Any,1}}(\"ob_12\", Any[], Any[#g#15{##16#17{##22#27{Array{TimedNote{MidiPitch,Rational{Int64}},1}},Observable{Any}},Tuple{Observable{Array{Any,1}}}}(##16#17{##22#27{Array{TimedNote{MidiPitch,Rational{Int64}},1}},Observable{Any}}(##22#27{Array{TimedNote{MidiPitch,Rational{Int64}},1}}(TimedNote{MidiPitch,Rational{Int64}}[Note<0//1-1//1>(0), Note<1//1-2//1>(2), Note<2//1-3//1>(4)]), Observable{Any}(\"ob_13\", Any[], Any[])), (Observable{Array{Any,1}}(#= circular reference @-4 =#),))]), nothing),\"jclear\"=>(Observable{Nothing}(\"ob_14\", nothing, Any[SyncCallback(Scope(#= circular reference @-6 =#), SyncCallback(Scope(#= circular reference @-7 =#), ##40#42{Scope,String}(Scope(#= circular reference @-8 =#), \"jclear\")))]), nothing),\"ohighlights\"=>(Observable{Array{Array{T,1} where T,1}}(#= circular reference @-12 =#), nothing)), Set(String[]), nothing, [\"/home/chfin/dateien/dev/julia/MusicologyPlots/src/../deps/d3.v4.min.js\", \"/home/chfin/dateien/dev/julia/MusicologyPlots/src/../deps/pianoroll.js\"], Dict{Any,Any}(\"jnotes\"=>Any[JSString(\"(function (ns){return document.getElementById(\\\"pianoroll11997110294036868530\\\").updateNotes(ns)})\")],\"_promises\"=>Dict{Any,Any}(\"importsLoaded\"=>Any[JSString(\"(function (d3){var pr=document.getElementById(\\\"pianoroll11997110294036868530\\\"); pianoroll(\\\"pianoroll11997110294036868530\\\",d3,WebIO.getval({\\\"name\\\":\\\"jnotes\\\",\\\"scope\\\":\\\"scope-b93a3732-e4ee-4a45-8134-b5bd5c4de44f\\\",\\\"id\\\":\\\"ob_10\\\",\\\"type\\\":\\\"observable\\\"}),WebIO.getval({\\\"name\\\":\\\"jhighlights\\\",\\\"scope\\\":\\\"scope-b93a3732-e4ee-4a45-8134-b5bd5c4de44f\\\",\\\"id\\\":\\\"ob_11\\\",\\\"type\\\":\\\"observable\\\"}),true); return pr.updateSelectedOut=(function (selected){console.log(selected); return WebIO.setval({\\\"name\\\":\\\"jselected\\\",\\\"scope\\\":\\\"scope-b93a3732-e4ee-4a45-8134-b5bd5c4de44f\\\",\\\"id\\\":\\\"ob_12\\\",\\\"type\\\":\\\"observable\\\"},Array.from(selected))})})\")]),\"jhighlights\"=>Any[JSString(\"(function (hls){return document.getElementById(\\\"pianoroll11997110294036868530\\\").updateHighlights(hls,true)})\")],\"jclear\"=>Any[JSString(\"(function (clr){return document.getElementById(\\\"pianoroll11997110294036868530\\\").clearSel()})\")]), ConnectionPool(Channel{Any}(sz_max:9223372036854775807,sz_curr:6), Set(AbstractConnection[]), Channel{AbstractConnection}(sz_max:32,sz_curr:0))), \"jhighlights\")))])), (Observable{Array{Array{T,1} where T,1}}(#= circular reference @-4 =#),))]),:selected=>Observable{Any}(\"ob_13\", Any[], Any[]),:clear=>Observable{Nothing}(\"ob_14\", nothing, Any[SyncCallback(Scope(\"scope-b93a3732-e4ee-4a45-8134-b5bd5c4de44f\", Node{DOM}(DOM(:html, :span), Any[], Dict{Symbol,Any}(), 0), Dict{String,Tuple{Observables.AbstractObservable,Union{Nothing, Bool}}}(\"jnotes\"=>(Observable{Any}(\"ob_10\", Dict{Symbol,Real}[Dict(:offset=>1//1,:onset=>0//1,:id=>1,:pitch=>0), Dict(:offset=>2//1,:onset=>1//1,:id=>2,:pitch=>2), Dict(:offset=>3//1,:onset=>2//1,:id=>3,:pitch=>4)], Any[SyncCallback(Scope(#= circular reference @-6 =#), SyncCallback(Scope(#= circular reference @-7 =#), ##40#42{Scope,String}(Scope(#= circular reference @-8 =#), \"jnotes\")))]), nothing),\"jhighlights\"=>(Observable{Any}(\"ob_11\", Any[], Any[SyncCallback(Scope(#= circular reference @-6 =#), SyncCallback(Scope(#= circular reference @-7 =#), ##40#42{Scope,String}(Scope(#= circular reference @-8 =#), \"jhighlights\")))]), nothing),\"onotes\"=>(Observable{Array{TimedNote{MidiPitch,Rational{Int64}},1}}(\"ob_08\", TimedNote{MidiPitch,Rational{Int64}}[Note<0//1-1//1>(0), Note<1//1-2//1>(2), Note<2//1-3//1>(4)], Any[#g#15{##16#17{##19#24,Observable{Any}},Tuple{Observable{Array{TimedNote{MidiPitch,Rational{Int64}},1}}}}(##16#17{##19#24,Observable{Any}}(##19#24(), Observable{Any}(\"ob_10\", Dict{Symbol,Real}[Dict(:offset=>1//1,:onset=>0//1,:id=>1,:pitch=>0), Dict(:offset=>2//1,:onset=>1//1,:id=>2,:pitch=>2), Dict(:offset=>3//1,:onset=>2//1,:id=>3,:pitch=>4)], Any[SyncCallback(Scope(#= circular reference @-10 =#), SyncCallback(Scope(#= circular reference @-11 =#), ##40#42{Scope,String}(Scope(#= circular reference @-12 =#), \"jnotes\")))])), (Observable{Array{TimedNote{MidiPitch,Rational{Int64}},1}}(#= circular reference @-4 =#),))]), nothing),\"jselected\"=>(Observable{Array{Any,1}}(\"ob_12\", Any[], Any[#g#15{##16#17{##22#27{Array{TimedNote{MidiPitch,Rational{Int64}},1}},Observable{Any}},Tuple{Observable{Array{Any,1}}}}(##16#17{##22#27{Array{TimedNote{MidiPitch,Rational{Int64}},1}},Observable{Any}}(##22#27{Array{TimedNote{MidiPitch,Rational{Int64}},1}}(TimedNote{MidiPitch,Rational{Int64}}[Note<0//1-1//1>(0), Note<1//1-2//1>(2), Note<2//1-3//1>(4)]), Observable{Any}(\"ob_13\", Any[], Any[])), (Observable{Array{Any,1}}(#= circular reference @-4 =#),))]), nothing),\"jclear\"=>(Observable{Nothing}(#= circular reference @-6 =#), nothing),\"ohighlights\"=>(Observable{Array{Array{T,1} where T,1}}(\"ob_09\", Array{T,1} where T[], Any[#g#15{##16#17{##20#25,Observable{Any}},Tuple{Observable{Array{Array{T,1} where T,1}}}}(##16#17{##20#25,Observable{Any}}(##20#25(), Observable{Any}(\"ob_11\", Any[], Any[SyncCallback(Scope(#= circular reference @-10 =#), SyncCallback(Scope(#= circular reference @-11 =#), ##40#42{Scope,String}(Scope(#= circular reference @-12 =#), \"jhighlights\")))])), (Observable{Array{Array{T,1} where T,1}}(#= circular reference @-4 =#),))]), nothing)), Set(String[]), nothing, [\"/home/chfin/dateien/dev/julia/MusicologyPlots/src/../deps/d3.v4.min.js\", \"/home/chfin/dateien/dev/julia/MusicologyPlots/src/../deps/pianoroll.js\"], Dict{Any,Any}(\"jnotes\"=>Any[JSString(\"(function (ns){return document.getElementById(\\\"pianoroll11997110294036868530\\\").updateNotes(ns)})\")],\"_promises\"=>Dict{Any,Any}(\"importsLoaded\"=>Any[JSString(\"(function (d3){var pr=document.getElementById(\\\"pianoroll11997110294036868530\\\"); pianoroll(\\\"pianoroll11997110294036868530\\\",d3,WebIO.getval({\\\"name\\\":\\\"jnotes\\\",\\\"scope\\\":\\\"scope-b93a3732-e4ee-4a45-8134-b5bd5c4de44f\\\",\\\"id\\\":\\\"ob_10\\\",\\\"type\\\":\\\"observable\\\"}),WebIO.getval({\\\"name\\\":\\\"jhighlights\\\",\\\"scope\\\":\\\"scope-b93a3732-e4ee-4a45-8134-b5bd5c4de44f\\\",\\\"id\\\":\\\"ob_11\\\",\\\"type\\\":\\\"observable\\\"}),true); return pr.updateSelectedOut=(function (selected){console.log(selected); return WebIO.setval({\\\"name\\\":\\\"jselected\\\",\\\"scope\\\":\\\"scope-b93a3732-e4ee-4a45-8134-b5bd5c4de44f\\\",\\\"id\\\":\\\"ob_12\\\",\\\"type\\\":\\\"observable\\\"},Array.from(selected))})})\")]),\"jhighlights\"=>Any[JSString(\"(function (hls){return document.getElementById(\\\"pianoroll11997110294036868530\\\").updateHighlights(hls,true)})\")],\"jclear\"=>Any[JSString(\"(function (clr){return document.getElementById(\\\"pianoroll11997110294036868530\\\").clearSel()})\")]), ConnectionPool(Channel{Any}(sz_max:9223372036854775807,sz_curr:6), Set(AbstractConnection[]), Channel{AbstractConnection}(sz_max:32,sz_curr:0))), SyncCallback(Scope(\"scope-b93a3732-e4ee-4a45-8134-b5bd5c4de44f\", Node{DOM}(DOM(:html, :span), Any[], Dict{Symbol,Any}(), 0), Dict{String,Tuple{Observables.AbstractObservable,Union{Nothing, Bool}}}(\"jnotes\"=>(Observable{Any}(\"ob_10\", Dict{Symbol,Real}[Dict(:offset=>1//1,:onset=>0//1,:id=>1,:pitch=>0), Dict(:offset=>2//1,:onset=>1//1,:id=>2,:pitch=>2), Dict(:offset=>3//1,:onset=>2//1,:id=>3,:pitch=>4)], Any[SyncCallback(Scope(#= circular reference @-6 =#), SyncCallback(Scope(#= circular reference @-7 =#), ##40#42{Scope,String}(Scope(#= circular reference @-8 =#), \"jnotes\")))]), nothing),\"jhighlights\"=>(Observable{Any}(\"ob_11\", Any[], Any[SyncCallback(Scope(#= circular reference @-6 =#), SyncCallback(Scope(#= circular reference @-7 =#), ##40#42{Scope,String}(Scope(#= circular reference @-8 =#), \"jhighlights\")))]), nothing),\"onotes\"=>(Observable{Array{TimedNote{MidiPitch,Rational{Int64}},1}}(\"ob_08\", TimedNote{MidiPitch,Rational{Int64}}[Note<0//1-1//1>(0), Note<1//1-2//1>(2), Note<2//1-3//1>(4)], Any[#g#15{##16#17{##19#24,Observable{Any}},Tuple{Observable{Array{TimedNote{MidiPitch,Rational{Int64}},1}}}}(##16#17{##19#24,Observable{Any}}(##19#24(), Observable{Any}(\"ob_10\", Dict{Symbol,Real}[Dict(:offset=>1//1,:onset=>0//1,:id=>1,:pitch=>0), Dict(:offset=>2//1,:onset=>1//1,:id=>2,:pitch=>2), Dict(:offset=>3//1,:onset=>2//1,:id=>3,:pitch=>4)], Any[SyncCallback(Scope(#= circular reference @-10 =#), SyncCallback(Scope(#= circular reference @-11 =#), ##40#42{Scope,String}(Scope(#= circular reference @-12 =#), \"jnotes\")))])), (Observable{Array{TimedNote{MidiPitch,Rational{Int64}},1}}(#= circular reference @-4 =#),))]), nothing),\"jselected\"=>(Observable{Array{Any,1}}(\"ob_12\", Any[], Any[#g#15{##16#17{##22#27{Array{TimedNote{MidiPitch,Rational{Int64}},1}},Observable{Any}},Tuple{Observable{Array{Any,1}}}}(##16#17{##22#27{Array{TimedNote{MidiPitch,Rational{Int64}},1}},Observable{Any}}(##22#27{Array{TimedNote{MidiPitch,Rational{Int64}},1}}(TimedNote{MidiPitch,Rational{Int64}}[Note<0//1-1//1>(0), Note<1//1-2//1>(2), Note<2//1-3//1>(4)]), Observable{Any}(\"ob_13\", Any[], Any[])), (Observable{Array{Any,1}}(#= circular reference @-4 =#),))]), nothing),\"jclear\"=>(Observable{Nothing}(#= circular reference @-7 =#), nothing),\"ohighlights\"=>(Observable{Array{Array{T,1} where T,1}}(\"ob_09\", Array{T,1} where T[], Any[#g#15{##16#17{##20#25,Observable{Any}},Tuple{Observable{Array{Array{T,1} where T,1}}}}(##16#17{##20#25,Observable{Any}}(##20#25(), Observable{Any}(\"ob_11\", Any[], Any[SyncCallback(Scope(#= circular reference @-10 =#), SyncCallback(Scope(#= circular reference @-11 =#), ##40#42{Scope,String}(Scope(#= circular reference @-12 =#), \"jhighlights\")))])), (Observable{Array{Array{T,1} where T,1}}(#= circular reference @-4 =#),))]), nothing)), Set(String[]), nothing, [\"/home/chfin/dateien/dev/julia/MusicologyPlots/src/../deps/d3.v4.min.js\", \"/home/chfin/dateien/dev/julia/MusicologyPlots/src/../deps/pianoroll.js\"], Dict{Any,Any}(\"jnotes\"=>Any[JSString(\"(function (ns){return document.getElementById(\\\"pianoroll11997110294036868530\\\").updateNotes(ns)})\")],\"_promises\"=>Dict{Any,Any}(\"importsLoaded\"=>Any[JSString(\"(function (d3){var pr=document.getElementById(\\\"pianoroll11997110294036868530\\\"); pianoroll(\\\"pianoroll11997110294036868530\\\",d3,WebIO.getval({\\\"name\\\":\\\"jnotes\\\",\\\"scope\\\":\\\"scope-b93a3732-e4ee-4a45-8134-b5bd5c4de44f\\\",\\\"id\\\":\\\"ob_10\\\",\\\"type\\\":\\\"observable\\\"}),WebIO.getval({\\\"name\\\":\\\"jhighlights\\\",\\\"scope\\\":\\\"scope-b93a3732-e4ee-4a45-8134-b5bd5c4de44f\\\",\\\"id\\\":\\\"ob_11\\\",\\\"type\\\":\\\"observable\\\"}),true); return pr.updateSelectedOut=(function (selected){console.log(selected); return WebIO.setval({\\\"name\\\":\\\"jselected\\\",\\\"scope\\\":\\\"scope-b93a3732-e4ee-4a45-8134-b5bd5c4de44f\\\",\\\"id\\\":\\\"ob_12\\\",\\\"type\\\":\\\"observable\\\"},Array.from(selected))})})\")]),\"jhighlights\"=>Any[JSString(\"(function (hls){return document.getElementById(\\\"pianoroll11997110294036868530\\\").updateHighlights(hls,true)})\")],\"jclear\"=>Any[JSString(\"(function (clr){return document.getElementById(\\\"pianoroll11997110294036868530\\\").clearSel()})\")]), ConnectionPool(Channel{Any}(sz_max:9223372036854775807,sz_curr:6), Set(AbstractConnection[]), Channel{AbstractConnection}(sz_max:32,sz_curr:0))), ##40#42{Scope,String}(Scope(\"scope-b93a3732-e4ee-4a45-8134-b5bd5c4de44f\", Node{DOM}(DOM(:html, :span), Any[], Dict{Symbol,Any}(), 0), Dict{String,Tuple{Observables.AbstractObservable,Union{Nothing, Bool}}}(\"jnotes\"=>(Observable{Any}(\"ob_10\", Dict{Symbol,Real}[Dict(:offset=>1//1,:onset=>0//1,:id=>1,:pitch=>0), Dict(:offset=>2//1,:onset=>1//1,:id=>2,:pitch=>2), Dict(:offset=>3//1,:onset=>2//1,:id=>3,:pitch=>4)], Any[SyncCallback(Scope(#= circular reference @-6 =#), SyncCallback(Scope(#= circular reference @-7 =#), ##40#42{Scope,String}(Scope(#= circular reference @-8 =#), \"jnotes\")))]), nothing),\"jhighlights\"=>(Observable{Any}(\"ob_11\", Any[], Any[SyncCallback(Scope(#= circular reference @-6 =#), SyncCallback(Scope(#= circular reference @-7 =#), ##40#42{Scope,String}(Scope(#= circular reference @-8 =#), \"jhighlights\")))]), nothing),\"onotes\"=>(Observable{Array{TimedNote{MidiPitch,Rational{Int64}},1}}(\"ob_08\", TimedNote{MidiPitch,Rational{Int64}}[Note<0//1-1//1>(0), Note<1//1-2//1>(2), Note<2//1-3//1>(4)], Any[#g#15{##16#17{##19#24,Observable{Any}},Tuple{Observable{Array{TimedNote{MidiPitch,Rational{Int64}},1}}}}(##16#17{##19#24,Observable{Any}}(##19#24(), Observable{Any}(\"ob_10\", Dict{Symbol,Real}[Dict(:offset=>1//1,:onset=>0//1,:id=>1,:pitch=>0), Dict(:offset=>2//1,:onset=>1//1,:id=>2,:pitch=>2), Dict(:offset=>3//1,:onset=>2//1,:id=>3,:pitch=>4)], Any[SyncCallback(Scope(#= circular reference @-10 =#), SyncCallback(Scope(#= circular reference @-11 =#), ##40#42{Scope,String}(Scope(#= circular reference @-12 =#), \"jnotes\")))])), (Observable{Array{TimedNote{MidiPitch,Rational{Int64}},1}}(#= circular reference @-4 =#),))]), nothing),\"jselected\"=>(Observable{Array{Any,1}}(\"ob_12\", Any[], Any[#g#15{##16#17{##22#27{Array{TimedNote{MidiPitch,Rational{Int64}},1}},Observable{Any}},Tuple{Observable{Array{Any,1}}}}(##16#17{##22#27{Array{TimedNote{MidiPitch,Rational{Int64}},1}},Observable{Any}}(##22#27{Array{TimedNote{MidiPitch,Rational{Int64}},1}}(TimedNote{MidiPitch,Rational{Int64}}[Note<0//1-1//1>(0), Note<1//1-2//1>(2), Note<2//1-3//1>(4)]), Observable{Any}(\"ob_13\", Any[], Any[])), (Observable{Array{Any,1}}(#= circular reference @-4 =#),))]), nothing),\"jclear\"=>(Observable{Nothing}(#= circular reference @-8 =#), nothing),\"ohighlights\"=>(Observable{Array{Array{T,1} where T,1}}(\"ob_09\", Array{T,1} where T[], Any[#g#15{##16#17{##20#25,Observable{Any}},Tuple{Observable{Array{Array{T,1} where T,1}}}}(##16#17{##20#25,Observable{Any}}(##20#25(), Observable{Any}(\"ob_11\", Any[], Any[SyncCallback(Scope(#= circular reference @-10 =#), SyncCallback(Scope(#= circular reference @-11 =#), ##40#42{Scope,String}(Scope(#= circular reference @-12 =#), \"jhighlights\")))])), (Observable{Array{Array{T,1} where T,1}}(#= circular reference @-4 =#),))]), nothing)), Set(String[]), nothing, [\"/home/chfin/dateien/dev/julia/MusicologyPlots/src/../deps/d3.v4.min.js\", \"/home/chfin/dateien/dev/julia/MusicologyPlots/src/../deps/pianoroll.js\"], Dict{Any,Any}(\"jnotes\"=>Any[JSString(\"(function (ns){return document.getElementById(\\\"pianoroll11997110294036868530\\\").updateNotes(ns)})\")],\"_promises\"=>Dict{Any,Any}(\"importsLoaded\"=>Any[JSString(\"(function (d3){var pr=document.getElementById(\\\"pianoroll11997110294036868530\\\"); pianoroll(\\\"pianoroll11997110294036868530\\\",d3,WebIO.getval({\\\"name\\\":\\\"jnotes\\\",\\\"scope\\\":\\\"scope-b93a3732-e4ee-4a45-8134-b5bd5c4de44f\\\",\\\"id\\\":\\\"ob_10\\\",\\\"type\\\":\\\"observable\\\"}),WebIO.getval({\\\"name\\\":\\\"jhighlights\\\",\\\"scope\\\":\\\"scope-b93a3732-e4ee-4a45-8134-b5bd5c4de44f\\\",\\\"id\\\":\\\"ob_11\\\",\\\"type\\\":\\\"observable\\\"}),true); return pr.updateSelectedOut=(function (selected){console.log(selected); return WebIO.setval({\\\"name\\\":\\\"jselected\\\",\\\"scope\\\":\\\"scope-b93a3732-e4ee-4a45-8134-b5bd5c4de44f\\\",\\\"id\\\":\\\"ob_12\\\",\\\"type\\\":\\\"observable\\\"},Array.from(selected))})})\")]),\"jhighlights\"=>Any[JSString(\"(function (hls){return document.getElementById(\\\"pianoroll11997110294036868530\\\").updateHighlights(hls,true)})\")],\"jclear\"=>Any[JSString(\"(function (clr){return document.getElementById(\\\"pianoroll11997110294036868530\\\").clearSel()})\")]), ConnectionPool(Channel{Any}(sz_max:9223372036854775807,sz_curr:6), Set(AbstractConnection[]), Channel{AbstractConnection}(sz_max:32,sz_curr:0))), \"jclear\")))])), Observable{Any}(\"ob_13\", Any[], Any[]), Scope(\"scope-b93a3732-e4ee-4a45-8134-b5bd5c4de44f\", Node{WebIO.DOM}(WebIO.DOM(:html, :span), Any[], Dict{Symbol,Any}(), 0), Dict{String,Tuple{Observables.AbstractObservable,Union{Nothing, Bool}}}(\"jnotes\"=>(Observable{Any}(\"ob_10\", Dict{Symbol,Real}[Dict(:offset=>1//1,:onset=>0//1,:id=>1,:pitch=>0), Dict(:offset=>2//1,:onset=>1//1,:id=>2,:pitch=>2), Dict(:offset=>3//1,:onset=>2//1,:id=>3,:pitch=>4)], Any[SyncCallback(Scope(#= circular reference @-6 =#), SyncCallback(Scope(#= circular reference @-7 =#), ##40#42{Scope,String}(Scope(#= circular reference @-8 =#), \"jnotes\")))]), nothing),\"jhighlights\"=>(Observable{Any}(\"ob_11\", Any[], Any[SyncCallback(Scope(#= circular reference @-6 =#), SyncCallback(Scope(#= circular reference @-7 =#), ##40#42{Scope,String}(Scope(#= circular reference @-8 =#), \"jhighlights\")))]), nothing),\"onotes\"=>(Observable{Array{TimedNote{MidiPitch,Rational{Int64}},1}}(\"ob_08\", TimedNote{MidiPitch,Rational{Int64}}[Note<0//1-1//1>(0), Note<1//1-2//1>(2), Note<2//1-3//1>(4)], Any[#g#15{##16#17{##19#24,Observable{Any}},Tuple{Observable{Array{TimedNote{MidiPitch,Rational{Int64}},1}}}}(##16#17{##19#24,Observable{Any}}(##19#24(), Observable{Any}(\"ob_10\", Dict{Symbol,Real}[Dict(:offset=>1//1,:onset=>0//1,:id=>1,:pitch=>0), Dict(:offset=>2//1,:onset=>1//1,:id=>2,:pitch=>2), Dict(:offset=>3//1,:onset=>2//1,:id=>3,:pitch=>4)], Any[SyncCallback(Scope(#= circular reference @-10 =#), SyncCallback(Scope(#= circular reference @-11 =#), ##40#42{Scope,String}(Scope(#= circular reference @-12 =#), \"jnotes\")))])), (Observable{Array{TimedNote{MidiPitch,Rational{Int64}},1}}(#= circular reference @-4 =#),))]), nothing),\"jselected\"=>(Observable{Array{Any,1}}(\"ob_12\", Any[], Any[#g#15{##16#17{##22#27{Array{TimedNote{MidiPitch,Rational{Int64}},1}},Observable{Any}},Tuple{Observable{Array{Any,1}}}}(##16#17{##22#27{Array{TimedNote{MidiPitch,Rational{Int64}},1}},Observable{Any}}(##22#27{Array{TimedNote{MidiPitch,Rational{Int64}},1}}(TimedNote{MidiPitch,Rational{Int64}}[Note<0//1-1//1>(0), Note<1//1-2//1>(2), Note<2//1-3//1>(4)]), Observable{Any}(\"ob_13\", Any[], Any[])), (Observable{Array{Any,1}}(#= circular reference @-4 =#),))]), nothing),\"jclear\"=>(Observable{Nothing}(\"ob_14\", nothing, Any[SyncCallback(Scope(#= circular reference @-6 =#), SyncCallback(Scope(#= circular reference @-7 =#), ##40#42{Scope,String}(Scope(#= circular reference @-8 =#), \"jclear\")))]), nothing),\"ohighlights\"=>(Observable{Array{Array{T,1} where T,1}}(\"ob_09\", Array{T,1} where T[], Any[#g#15{##16#17{##20#25,Observable{Any}},Tuple{Observable{Array{Array{T,1} where T,1}}}}(##16#17{##20#25,Observable{Any}}(##20#25(), Observable{Any}(\"ob_11\", Any[], Any[SyncCallback(Scope(#= circular reference @-10 =#), SyncCallback(Scope(#= circular reference @-11 =#), ##40#42{Scope,String}(Scope(#= circular reference @-12 =#), \"jhighlights\")))])), (Observable{Array{Array{T,1} where T,1}}(#= circular reference @-4 =#),))]), nothing)), Set(String[]), nothing, [\"/home/chfin/dateien/dev/julia/MusicologyPlots/src/../deps/d3.v4.min.js\", \"/home/chfin/dateien/dev/julia/MusicologyPlots/src/../deps/pianoroll.js\"], Dict{Any,Any}(\"jnotes\"=>Any[JSString(\"(function (ns){return document.getElementById(\\\"pianoroll11997110294036868530\\\").updateNotes(ns)})\")],\"_promises\"=>Dict{Any,Any}(\"importsLoaded\"=>Any[JSString(\"(function (d3){var pr=document.getElementById(\\\"pianoroll11997110294036868530\\\"); pianoroll(\\\"pianoroll11997110294036868530\\\",d3,WebIO.getval({\\\"name\\\":\\\"jnotes\\\",\\\"scope\\\":\\\"scope-b93a3732-e4ee-4a45-8134-b5bd5c4de44f\\\",\\\"id\\\":\\\"ob_10\\\",\\\"type\\\":\\\"observable\\\"}),WebIO.getval({\\\"name\\\":\\\"jhighlights\\\",\\\"scope\\\":\\\"scope-b93a3732-e4ee-4a45-8134-b5bd5c4de44f\\\",\\\"id\\\":\\\"ob_11\\\",\\\"type\\\":\\\"observable\\\"}),true); return pr.updateSelectedOut=(function (selected){console.log(selected); return WebIO.setval({\\\"name\\\":\\\"jselected\\\",\\\"scope\\\":\\\"scope-b93a3732-e4ee-4a45-8134-b5bd5c4de44f\\\",\\\"id\\\":\\\"ob_12\\\",\\\"type\\\":\\\"observable\\\"},Array.from(selected))})})\")]),\"jhighlights\"=>Any[JSString(\"(function (hls){return document.getElementById(\\\"pianoroll11997110294036868530\\\").updateHighlights(hls,true)})\")],\"jclear\"=>Any[JSString(\"(function (clr){return document.getElementById(\\\"pianoroll11997110294036868530\\\").clearSel()})\")]), WebIO.ConnectionPool(Channel{Any}(sz_max:9223372036854775807,sz_curr:6), Set(AbstractConnection[]), Channel{AbstractConnection}(sz_max:32,sz_curr:0))), getfield(Main, Symbol(\"#lay#29\")){String}(\"pianoroll11997110294036868530\"))"
      ]
     },
     "execution_count": 12,
     "metadata": {},
     "output_type": "execute_result"
    }
   ],
   "source": [
    "pr = pianorollwdg(testnotes, allowselect=true)"
   ]
  },
  {
   "cell_type": "code",
   "execution_count": 6,
   "metadata": {},
   "outputs": [],
   "source": [
    "clear!(pr)"
   ]
  },
  {
   "cell_type": "code",
   "execution_count": 7,
   "metadata": {},
   "outputs": [],
   "source": [
    "pr[:notes][] = notes;"
   ]
  },
  {
   "cell_type": "code",
   "execution_count": 8,
   "metadata": {},
   "outputs": [
    {
     "data": {
      "text/plain": [
       "1-element Array{Array{TimedNote{MidiPitch,Rational{Int64}},1},1}:\n",
       " [Note<0//1-1//2>(72), Note<0//1-1//8>(60), Note<1//8-1//4>(67), Note<1//4-3//8>(64), Note<3//8-1//2>(67)]"
      ]
     },
     "execution_count": 8,
     "metadata": {},
     "output_type": "execute_result"
    }
   ],
   "source": [
    "pr[:highlights][] = [notes[[1,2,3,4,5]]]"
   ]
  },
  {
   "cell_type": "code",
   "execution_count": 9,
   "metadata": {},
   "outputs": [
    {
     "data": {
      "text/plain": [
       "0-element Array{Any,1}"
      ]
     },
     "execution_count": 9,
     "metadata": {},
     "output_type": "execute_result"
    }
   ],
   "source": [
    "pr[:highlights][] = []"
   ]
  },
  {
   "cell_type": "code",
   "execution_count": 10,
   "metadata": {
    "scrolled": false
   },
   "outputs": [
    {
     "data": {
      "text/plain": [
       "3-element Array{TimedNote{MidiPitch,Rational{Int64}},1}:\n",
       " Note<0//1-1//1>(0)\n",
       " Note<1//1-2//1>(2)\n",
       " Note<2//1-3//1>(4)"
      ]
     },
     "execution_count": 10,
     "metadata": {},
     "output_type": "execute_result"
    }
   ],
   "source": [
    "testnotes"
   ]
  },
  {
   "cell_type": "code",
   "execution_count": null,
   "metadata": {},
   "outputs": [],
   "source": []
  }
 ],
 "metadata": {
  "kernelspec": {
   "display_name": "Julia 1.0.0",
   "language": "julia",
   "name": "julia-1.0"
  },
  "language_info": {
   "file_extension": ".jl",
   "mimetype": "application/julia",
   "name": "julia",
   "version": "1.0.1"
  }
 },
 "nbformat": 4,
 "nbformat_minor": 2
}
